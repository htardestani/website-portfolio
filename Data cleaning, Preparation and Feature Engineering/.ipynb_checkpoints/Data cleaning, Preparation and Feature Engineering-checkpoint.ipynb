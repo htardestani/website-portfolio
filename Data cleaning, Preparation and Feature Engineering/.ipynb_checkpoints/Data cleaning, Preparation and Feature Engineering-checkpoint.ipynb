{
 "cells": [
  {
   "cell_type": "markdown",
   "metadata": {},
   "source": [
    "## ___\n",
    "[Home- go back to hadardestani.com](http://hadiardestani.com/)\n",
    "___\n",
    "# Data Cleaning and Preparation\n",
    "\n",
    "A few years ago I borrowed some money from Lending club while I was in school and needed some money. I was very happy with the process and how fast everything worked out. And of course, I paid it off to the last penny. But this is not always the case. Some people default on their loans. How does lending club trust you to borrow money? Of course, they use their past Data, consumer Data, and statistics to determine what is the probability of a potential borrower to pay back in full, and based on their formula they approve or reject the request. I will try to download publically available data from their website and try to create a model that will help predict whether if a potential borrower will pay back in full or not. \n",
    "\n",
    "I will be using their data from 2014 and 2015 (I downloaded the data set for each year and the combined the 2 csv files into one. The final file includes over half million records and try to classify and predict whether or not the borrower paid back their loan in full. I downloaded the data from [here](https://www.lendingclub.com/info/download-data.action) (of course I had a username and password since I once was a browser so I just had to reset my password.) At the end of this practice I will download the end result dataset so I can use it for modeling an algorithm in another post."
   ]
  },
  {
   "cell_type": "markdown",
   "metadata": {},
   "source": [
    "# Libraries\n",
    "\n",
    "***Let's first import the usual libraries***"
   ]
  },
  {
   "cell_type": "code",
   "execution_count": 1,
   "metadata": {
    "scrolled": false
   },
   "outputs": [],
   "source": [
    "import pandas as pd\n",
    "import numpy as np\n",
    "import matplotlib.pyplot as plt\n",
    "import seaborn as sns\n",
    "from scipy import stats\n",
    "%matplotlib inline"
   ]
  },
  {
   "cell_type": "markdown",
   "metadata": {},
   "source": [
    "## The Data\n",
    "\n",
    "***I am going to use pandas to import my CSV file***"
   ]
  },
  {
   "cell_type": "code",
   "execution_count": 2,
   "metadata": {
    "scrolled": false
   },
   "outputs": [],
   "source": [
    "lending_club = pd.read_csv('../Data cleaning, Preparation and Feature Engineering/loans.csv',skiprows=1,low_memory=False)"
   ]
  },
  {
   "cell_type": "markdown",
   "metadata": {},
   "source": [
    "**Side note: the files is more than 100mb, so I used git lfs in order to upload it into my guithub."
   ]
  },
  {
   "cell_type": "code",
   "execution_count": 3,
   "metadata": {
    "scrolled": false
   },
   "outputs": [
    {
     "data": {
      "text/html": [
       "<div>\n",
       "<style scoped>\n",
       "    .dataframe tbody tr th:only-of-type {\n",
       "        vertical-align: middle;\n",
       "    }\n",
       "\n",
       "    .dataframe tbody tr th {\n",
       "        vertical-align: top;\n",
       "    }\n",
       "\n",
       "    .dataframe thead th {\n",
       "        text-align: right;\n",
       "    }\n",
       "</style>\n",
       "<table border=\"1\" class=\"dataframe\">\n",
       "  <thead>\n",
       "    <tr style=\"text-align: right;\">\n",
       "      <th></th>\n",
       "      <th>id</th>\n",
       "      <th>member_id</th>\n",
       "      <th>loan_amnt</th>\n",
       "      <th>funded_amnt</th>\n",
       "      <th>funded_amnt_inv</th>\n",
       "      <th>term</th>\n",
       "      <th>int_rate</th>\n",
       "      <th>installment</th>\n",
       "      <th>grade</th>\n",
       "      <th>sub_grade</th>\n",
       "      <th>...</th>\n",
       "      <th>orig_projected_additional_accrued_interest</th>\n",
       "      <th>hardship_payoff_balance_amount</th>\n",
       "      <th>hardship_last_payment_amount</th>\n",
       "      <th>debt_settlement_flag</th>\n",
       "      <th>debt_settlement_flag_date</th>\n",
       "      <th>settlement_status</th>\n",
       "      <th>settlement_date</th>\n",
       "      <th>settlement_amount</th>\n",
       "      <th>settlement_percentage</th>\n",
       "      <th>settlement_term</th>\n",
       "    </tr>\n",
       "  </thead>\n",
       "  <tbody>\n",
       "    <tr>\n",
       "      <th>0</th>\n",
       "      <td>36805548</td>\n",
       "      <td>NaN</td>\n",
       "      <td>10400</td>\n",
       "      <td>10400</td>\n",
       "      <td>10400.0</td>\n",
       "      <td>36 months</td>\n",
       "      <td>6.99%</td>\n",
       "      <td>321.08</td>\n",
       "      <td>A</td>\n",
       "      <td>A3</td>\n",
       "      <td>...</td>\n",
       "      <td>NaN</td>\n",
       "      <td>NaN</td>\n",
       "      <td>NaN</td>\n",
       "      <td>N</td>\n",
       "      <td>NaN</td>\n",
       "      <td>NaN</td>\n",
       "      <td>NaN</td>\n",
       "      <td>NaN</td>\n",
       "      <td>NaN</td>\n",
       "      <td>NaN</td>\n",
       "    </tr>\n",
       "    <tr>\n",
       "      <th>1</th>\n",
       "      <td>38098114</td>\n",
       "      <td>NaN</td>\n",
       "      <td>15000</td>\n",
       "      <td>15000</td>\n",
       "      <td>15000.0</td>\n",
       "      <td>60 months</td>\n",
       "      <td>12.39%</td>\n",
       "      <td>336.64</td>\n",
       "      <td>C</td>\n",
       "      <td>C1</td>\n",
       "      <td>...</td>\n",
       "      <td>NaN</td>\n",
       "      <td>NaN</td>\n",
       "      <td>NaN</td>\n",
       "      <td>N</td>\n",
       "      <td>NaN</td>\n",
       "      <td>NaN</td>\n",
       "      <td>NaN</td>\n",
       "      <td>NaN</td>\n",
       "      <td>NaN</td>\n",
       "      <td>NaN</td>\n",
       "    </tr>\n",
       "    <tr>\n",
       "      <th>2</th>\n",
       "      <td>37822187</td>\n",
       "      <td>NaN</td>\n",
       "      <td>9600</td>\n",
       "      <td>9600</td>\n",
       "      <td>9600.0</td>\n",
       "      <td>36 months</td>\n",
       "      <td>13.66%</td>\n",
       "      <td>326.53</td>\n",
       "      <td>C</td>\n",
       "      <td>C3</td>\n",
       "      <td>...</td>\n",
       "      <td>NaN</td>\n",
       "      <td>NaN</td>\n",
       "      <td>NaN</td>\n",
       "      <td>N</td>\n",
       "      <td>NaN</td>\n",
       "      <td>NaN</td>\n",
       "      <td>NaN</td>\n",
       "      <td>NaN</td>\n",
       "      <td>NaN</td>\n",
       "      <td>NaN</td>\n",
       "    </tr>\n",
       "    <tr>\n",
       "      <th>3</th>\n",
       "      <td>37612354</td>\n",
       "      <td>NaN</td>\n",
       "      <td>12800</td>\n",
       "      <td>12800</td>\n",
       "      <td>12800.0</td>\n",
       "      <td>60 months</td>\n",
       "      <td>17.14%</td>\n",
       "      <td>319.08</td>\n",
       "      <td>D</td>\n",
       "      <td>D4</td>\n",
       "      <td>...</td>\n",
       "      <td>NaN</td>\n",
       "      <td>NaN</td>\n",
       "      <td>NaN</td>\n",
       "      <td>N</td>\n",
       "      <td>NaN</td>\n",
       "      <td>NaN</td>\n",
       "      <td>NaN</td>\n",
       "      <td>NaN</td>\n",
       "      <td>NaN</td>\n",
       "      <td>NaN</td>\n",
       "    </tr>\n",
       "    <tr>\n",
       "      <th>4</th>\n",
       "      <td>37842129</td>\n",
       "      <td>NaN</td>\n",
       "      <td>21425</td>\n",
       "      <td>21425</td>\n",
       "      <td>21425.0</td>\n",
       "      <td>60 months</td>\n",
       "      <td>15.59%</td>\n",
       "      <td>516.36</td>\n",
       "      <td>D</td>\n",
       "      <td>D1</td>\n",
       "      <td>...</td>\n",
       "      <td>NaN</td>\n",
       "      <td>NaN</td>\n",
       "      <td>NaN</td>\n",
       "      <td>N</td>\n",
       "      <td>NaN</td>\n",
       "      <td>NaN</td>\n",
       "      <td>NaN</td>\n",
       "      <td>NaN</td>\n",
       "      <td>NaN</td>\n",
       "      <td>NaN</td>\n",
       "    </tr>\n",
       "  </tbody>\n",
       "</table>\n",
       "<p>5 rows × 150 columns</p>\n",
       "</div>"
      ],
      "text/plain": [
       "         id  member_id  loan_amnt  funded_amnt  funded_amnt_inv        term  \\\n",
       "0  36805548        NaN      10400        10400          10400.0   36 months   \n",
       "1  38098114        NaN      15000        15000          15000.0   60 months   \n",
       "2  37822187        NaN       9600         9600           9600.0   36 months   \n",
       "3  37612354        NaN      12800        12800          12800.0   60 months   \n",
       "4  37842129        NaN      21425        21425          21425.0   60 months   \n",
       "\n",
       "  int_rate  installment grade sub_grade       ...        \\\n",
       "0    6.99%       321.08     A        A3       ...         \n",
       "1   12.39%       336.64     C        C1       ...         \n",
       "2   13.66%       326.53     C        C3       ...         \n",
       "3   17.14%       319.08     D        D4       ...         \n",
       "4   15.59%       516.36     D        D1       ...         \n",
       "\n",
       "  orig_projected_additional_accrued_interest hardship_payoff_balance_amount  \\\n",
       "0                                        NaN                            NaN   \n",
       "1                                        NaN                            NaN   \n",
       "2                                        NaN                            NaN   \n",
       "3                                        NaN                            NaN   \n",
       "4                                        NaN                            NaN   \n",
       "\n",
       "  hardship_last_payment_amount  debt_settlement_flag  \\\n",
       "0                          NaN                     N   \n",
       "1                          NaN                     N   \n",
       "2                          NaN                     N   \n",
       "3                          NaN                     N   \n",
       "4                          NaN                     N   \n",
       "\n",
       "  debt_settlement_flag_date settlement_status settlement_date  \\\n",
       "0                       NaN               NaN             NaN   \n",
       "1                       NaN               NaN             NaN   \n",
       "2                       NaN               NaN             NaN   \n",
       "3                       NaN               NaN             NaN   \n",
       "4                       NaN               NaN             NaN   \n",
       "\n",
       "  settlement_amount settlement_percentage settlement_term  \n",
       "0               NaN                   NaN             NaN  \n",
       "1               NaN                   NaN             NaN  \n",
       "2               NaN                   NaN             NaN  \n",
       "3               NaN                   NaN             NaN  \n",
       "4               NaN                   NaN             NaN  \n",
       "\n",
       "[5 rows x 150 columns]"
      ]
     },
     "execution_count": 3,
     "metadata": {},
     "output_type": "execute_result"
    }
   ],
   "source": [
    "#I am going to work off of a copy of the data frame, so my machine doesn't have to re-read the entire data frame every time.\n",
    "#this will save me some memory.\n",
    "df = lending_club.copy(deep=True)\n",
    "df.head()"
   ]
  },
  {
   "cell_type": "markdown",
   "metadata": {},
   "source": [
    "***let's check the data***"
   ]
  },
  {
   "cell_type": "code",
   "execution_count": 4,
   "metadata": {
    "scrolled": false
   },
   "outputs": [
    {
     "name": "stdout",
     "output_type": "stream",
     "text": [
      "<class 'pandas.core.frame.DataFrame'>\n",
      "RangeIndex: 656724 entries, 0 to 656723\n",
      "Columns: 150 entries, id to settlement_term\n",
      "dtypes: float64(69), int64(44), object(37)\n",
      "memory usage: 751.6+ MB\n"
     ]
    }
   ],
   "source": [
    "df.info()"
   ]
  },
  {
   "cell_type": "code",
   "execution_count": 5,
   "metadata": {
    "scrolled": false
   },
   "outputs": [
    {
     "data": {
      "text/plain": [
       "(656724, 150)"
      ]
     },
     "execution_count": 5,
     "metadata": {},
     "output_type": "execute_result"
    }
   ],
   "source": [
    "df.shape"
   ]
  },
  {
   "cell_type": "markdown",
   "metadata": {},
   "source": [
    "**There are 150 columns. we need to look into this and see if there are columns that we can eliminate to make the job easier and faster. To achieve this, we will do a series of dataset evaluation tasks. I also downloaded the data dictionary that is available for download as well. In order to get a better grasp of what these columns are we will need to look at it.**"
   ]
  },
  {
   "cell_type": "code",
   "execution_count": 6,
   "metadata": {
    "scrolled": false
   },
   "outputs": [],
   "source": [
    "dic_des = pd.read_excel('../Data cleaning, Preparation and Feature Engineering/LCDataDictionary.xlsx').dropna()"
   ]
  },
  {
   "cell_type": "markdown",
   "metadata": {},
   "source": [
    "**Now I am going to add a description column from my imported data dictionary by creating a data frame that only shows names and the description. Imaging doing a copy and transpose paste of all the columns in the dataset and then doing a VLOOKUP of name to bring in the description next to it.**"
   ]
  },
  {
   "cell_type": "code",
   "execution_count": 7,
   "metadata": {
    "scrolled": false
   },
   "outputs": [],
   "source": [
    "dic_des = dic_des.rename(columns={'LoanStatNew': 'Name'})\n",
    "df_dtypes = pd.DataFrame(df.dtypes,columns=['dtypes'])\n",
    "df_dtypes = df_dtypes.reset_index()\n",
    "df_dtypes['Name'] = df_dtypes['index']\n",
    "df_dtypes = df_dtypes[['Name','dtypes']]\n",
    "vlookup = df_dtypes.merge(dic_des, on='Name',how='left')"
   ]
  },
  {
   "cell_type": "code",
   "execution_count": 56,
   "metadata": {
    "scrolled": true
   },
   "outputs": [
    {
     "data": {
      "text/html": [
       "<style  type=\"text/css\" >\n",
       "    #T_6da50a78_b267_11ea_9512_0026bb688216row0_col2 {\n",
       "            width:  1000px;\n",
       "        }    #T_6da50a78_b267_11ea_9512_0026bb688216row1_col2 {\n",
       "            width:  1000px;\n",
       "        }    #T_6da50a78_b267_11ea_9512_0026bb688216row2_col2 {\n",
       "            width:  1000px;\n",
       "        }    #T_6da50a78_b267_11ea_9512_0026bb688216row3_col2 {\n",
       "            width:  1000px;\n",
       "        }    #T_6da50a78_b267_11ea_9512_0026bb688216row4_col2 {\n",
       "            width:  1000px;\n",
       "        }    #T_6da50a78_b267_11ea_9512_0026bb688216row5_col2 {\n",
       "            width:  1000px;\n",
       "        }    #T_6da50a78_b267_11ea_9512_0026bb688216row6_col2 {\n",
       "            width:  1000px;\n",
       "        }    #T_6da50a78_b267_11ea_9512_0026bb688216row7_col2 {\n",
       "            width:  1000px;\n",
       "        }    #T_6da50a78_b267_11ea_9512_0026bb688216row8_col2 {\n",
       "            width:  1000px;\n",
       "        }    #T_6da50a78_b267_11ea_9512_0026bb688216row9_col2 {\n",
       "            width:  1000px;\n",
       "        }    #T_6da50a78_b267_11ea_9512_0026bb688216row10_col2 {\n",
       "            width:  1000px;\n",
       "        }    #T_6da50a78_b267_11ea_9512_0026bb688216row11_col2 {\n",
       "            width:  1000px;\n",
       "        }    #T_6da50a78_b267_11ea_9512_0026bb688216row12_col2 {\n",
       "            width:  1000px;\n",
       "        }    #T_6da50a78_b267_11ea_9512_0026bb688216row13_col2 {\n",
       "            width:  1000px;\n",
       "        }    #T_6da50a78_b267_11ea_9512_0026bb688216row14_col2 {\n",
       "            width:  1000px;\n",
       "        }    #T_6da50a78_b267_11ea_9512_0026bb688216row15_col2 {\n",
       "            width:  1000px;\n",
       "        }    #T_6da50a78_b267_11ea_9512_0026bb688216row16_col2 {\n",
       "            width:  1000px;\n",
       "        }    #T_6da50a78_b267_11ea_9512_0026bb688216row17_col2 {\n",
       "            width:  1000px;\n",
       "        }    #T_6da50a78_b267_11ea_9512_0026bb688216row18_col2 {\n",
       "            width:  1000px;\n",
       "        }    #T_6da50a78_b267_11ea_9512_0026bb688216row19_col2 {\n",
       "            width:  1000px;\n",
       "        }</style>  \n",
       "<table id=\"T_6da50a78_b267_11ea_9512_0026bb688216\" > \n",
       "<thead>    <tr> \n",
       "        <th class=\"blank level0\" ></th> \n",
       "        <th class=\"col_heading level0 col0\" >Name</th> \n",
       "        <th class=\"col_heading level0 col1\" >dtypes</th> \n",
       "        <th class=\"col_heading level0 col2\" >Description</th> \n",
       "    </tr></thead> \n",
       "<tbody>    <tr> \n",
       "        <th id=\"T_6da50a78_b267_11ea_9512_0026bb688216level0_row0\" class=\"row_heading level0 row0\" >0</th> \n",
       "        <td id=\"T_6da50a78_b267_11ea_9512_0026bb688216row0_col0\" class=\"data row0 col0\" >id</td> \n",
       "        <td id=\"T_6da50a78_b267_11ea_9512_0026bb688216row0_col1\" class=\"data row0 col1\" >int64</td> \n",
       "        <td id=\"T_6da50a78_b267_11ea_9512_0026bb688216row0_col2\" class=\"data row0 col2\" >A unique LC assigned ID for the loan listing.</td> \n",
       "    </tr>    <tr> \n",
       "        <th id=\"T_6da50a78_b267_11ea_9512_0026bb688216level0_row1\" class=\"row_heading level0 row1\" >1</th> \n",
       "        <td id=\"T_6da50a78_b267_11ea_9512_0026bb688216row1_col0\" class=\"data row1 col0\" >member_id</td> \n",
       "        <td id=\"T_6da50a78_b267_11ea_9512_0026bb688216row1_col1\" class=\"data row1 col1\" >float64</td> \n",
       "        <td id=\"T_6da50a78_b267_11ea_9512_0026bb688216row1_col2\" class=\"data row1 col2\" >A unique LC assigned Id for the borrower member.</td> \n",
       "    </tr>    <tr> \n",
       "        <th id=\"T_6da50a78_b267_11ea_9512_0026bb688216level0_row2\" class=\"row_heading level0 row2\" >2</th> \n",
       "        <td id=\"T_6da50a78_b267_11ea_9512_0026bb688216row2_col0\" class=\"data row2 col0\" >loan_amnt</td> \n",
       "        <td id=\"T_6da50a78_b267_11ea_9512_0026bb688216row2_col1\" class=\"data row2 col1\" >int64</td> \n",
       "        <td id=\"T_6da50a78_b267_11ea_9512_0026bb688216row2_col2\" class=\"data row2 col2\" >The listed amount of the loan applied for by the borrower. If at some point in time, the credit department reduces the loan amount, then it will be reflected in this value.</td> \n",
       "    </tr>    <tr> \n",
       "        <th id=\"T_6da50a78_b267_11ea_9512_0026bb688216level0_row3\" class=\"row_heading level0 row3\" >3</th> \n",
       "        <td id=\"T_6da50a78_b267_11ea_9512_0026bb688216row3_col0\" class=\"data row3 col0\" >funded_amnt</td> \n",
       "        <td id=\"T_6da50a78_b267_11ea_9512_0026bb688216row3_col1\" class=\"data row3 col1\" >int64</td> \n",
       "        <td id=\"T_6da50a78_b267_11ea_9512_0026bb688216row3_col2\" class=\"data row3 col2\" >The total amount committed to that loan at that point in time.</td> \n",
       "    </tr>    <tr> \n",
       "        <th id=\"T_6da50a78_b267_11ea_9512_0026bb688216level0_row4\" class=\"row_heading level0 row4\" >4</th> \n",
       "        <td id=\"T_6da50a78_b267_11ea_9512_0026bb688216row4_col0\" class=\"data row4 col0\" >funded_amnt_inv</td> \n",
       "        <td id=\"T_6da50a78_b267_11ea_9512_0026bb688216row4_col1\" class=\"data row4 col1\" >float64</td> \n",
       "        <td id=\"T_6da50a78_b267_11ea_9512_0026bb688216row4_col2\" class=\"data row4 col2\" >The total amount committed by investors for that loan at that point in time.</td> \n",
       "    </tr>    <tr> \n",
       "        <th id=\"T_6da50a78_b267_11ea_9512_0026bb688216level0_row5\" class=\"row_heading level0 row5\" >5</th> \n",
       "        <td id=\"T_6da50a78_b267_11ea_9512_0026bb688216row5_col0\" class=\"data row5 col0\" >term</td> \n",
       "        <td id=\"T_6da50a78_b267_11ea_9512_0026bb688216row5_col1\" class=\"data row5 col1\" >object</td> \n",
       "        <td id=\"T_6da50a78_b267_11ea_9512_0026bb688216row5_col2\" class=\"data row5 col2\" >The number of payments on the loan. Values are in months and can be either 36 or 60.</td> \n",
       "    </tr>    <tr> \n",
       "        <th id=\"T_6da50a78_b267_11ea_9512_0026bb688216level0_row6\" class=\"row_heading level0 row6\" >6</th> \n",
       "        <td id=\"T_6da50a78_b267_11ea_9512_0026bb688216row6_col0\" class=\"data row6 col0\" >int_rate</td> \n",
       "        <td id=\"T_6da50a78_b267_11ea_9512_0026bb688216row6_col1\" class=\"data row6 col1\" >object</td> \n",
       "        <td id=\"T_6da50a78_b267_11ea_9512_0026bb688216row6_col2\" class=\"data row6 col2\" >Interest Rate on the loan</td> \n",
       "    </tr>    <tr> \n",
       "        <th id=\"T_6da50a78_b267_11ea_9512_0026bb688216level0_row7\" class=\"row_heading level0 row7\" >7</th> \n",
       "        <td id=\"T_6da50a78_b267_11ea_9512_0026bb688216row7_col0\" class=\"data row7 col0\" >installment</td> \n",
       "        <td id=\"T_6da50a78_b267_11ea_9512_0026bb688216row7_col1\" class=\"data row7 col1\" >float64</td> \n",
       "        <td id=\"T_6da50a78_b267_11ea_9512_0026bb688216row7_col2\" class=\"data row7 col2\" >The monthly payment owed by the borrower if the loan originates.</td> \n",
       "    </tr>    <tr> \n",
       "        <th id=\"T_6da50a78_b267_11ea_9512_0026bb688216level0_row8\" class=\"row_heading level0 row8\" >8</th> \n",
       "        <td id=\"T_6da50a78_b267_11ea_9512_0026bb688216row8_col0\" class=\"data row8 col0\" >grade</td> \n",
       "        <td id=\"T_6da50a78_b267_11ea_9512_0026bb688216row8_col1\" class=\"data row8 col1\" >object</td> \n",
       "        <td id=\"T_6da50a78_b267_11ea_9512_0026bb688216row8_col2\" class=\"data row8 col2\" >LC assigned loan grade</td> \n",
       "    </tr>    <tr> \n",
       "        <th id=\"T_6da50a78_b267_11ea_9512_0026bb688216level0_row9\" class=\"row_heading level0 row9\" >9</th> \n",
       "        <td id=\"T_6da50a78_b267_11ea_9512_0026bb688216row9_col0\" class=\"data row9 col0\" >sub_grade</td> \n",
       "        <td id=\"T_6da50a78_b267_11ea_9512_0026bb688216row9_col1\" class=\"data row9 col1\" >object</td> \n",
       "        <td id=\"T_6da50a78_b267_11ea_9512_0026bb688216row9_col2\" class=\"data row9 col2\" >LC assigned loan subgrade</td> \n",
       "    </tr>    <tr> \n",
       "        <th id=\"T_6da50a78_b267_11ea_9512_0026bb688216level0_row10\" class=\"row_heading level0 row10\" >10</th> \n",
       "        <td id=\"T_6da50a78_b267_11ea_9512_0026bb688216row10_col0\" class=\"data row10 col0\" >emp_title</td> \n",
       "        <td id=\"T_6da50a78_b267_11ea_9512_0026bb688216row10_col1\" class=\"data row10 col1\" >object</td> \n",
       "        <td id=\"T_6da50a78_b267_11ea_9512_0026bb688216row10_col2\" class=\"data row10 col2\" >The job title supplied by the Borrower when applying for the loan.*</td> \n",
       "    </tr>    <tr> \n",
       "        <th id=\"T_6da50a78_b267_11ea_9512_0026bb688216level0_row11\" class=\"row_heading level0 row11\" >11</th> \n",
       "        <td id=\"T_6da50a78_b267_11ea_9512_0026bb688216row11_col0\" class=\"data row11 col0\" >emp_length</td> \n",
       "        <td id=\"T_6da50a78_b267_11ea_9512_0026bb688216row11_col1\" class=\"data row11 col1\" >object</td> \n",
       "        <td id=\"T_6da50a78_b267_11ea_9512_0026bb688216row11_col2\" class=\"data row11 col2\" >Employment length in years. Possible values are between 0 and 10 where 0 means less than one year and 10 means ten or more years.</td> \n",
       "    </tr>    <tr> \n",
       "        <th id=\"T_6da50a78_b267_11ea_9512_0026bb688216level0_row12\" class=\"row_heading level0 row12\" >12</th> \n",
       "        <td id=\"T_6da50a78_b267_11ea_9512_0026bb688216row12_col0\" class=\"data row12 col0\" >home_ownership</td> \n",
       "        <td id=\"T_6da50a78_b267_11ea_9512_0026bb688216row12_col1\" class=\"data row12 col1\" >object</td> \n",
       "        <td id=\"T_6da50a78_b267_11ea_9512_0026bb688216row12_col2\" class=\"data row12 col2\" >The home ownership status provided by the borrower during registration or obtained from the credit report. Our values are: RENT, OWN, MORTGAGE, OTHER</td> \n",
       "    </tr>    <tr> \n",
       "        <th id=\"T_6da50a78_b267_11ea_9512_0026bb688216level0_row13\" class=\"row_heading level0 row13\" >13</th> \n",
       "        <td id=\"T_6da50a78_b267_11ea_9512_0026bb688216row13_col0\" class=\"data row13 col0\" >annual_inc</td> \n",
       "        <td id=\"T_6da50a78_b267_11ea_9512_0026bb688216row13_col1\" class=\"data row13 col1\" >float64</td> \n",
       "        <td id=\"T_6da50a78_b267_11ea_9512_0026bb688216row13_col2\" class=\"data row13 col2\" >The self-reported annual income provided by the borrower during registration.</td> \n",
       "    </tr>    <tr> \n",
       "        <th id=\"T_6da50a78_b267_11ea_9512_0026bb688216level0_row14\" class=\"row_heading level0 row14\" >14</th> \n",
       "        <td id=\"T_6da50a78_b267_11ea_9512_0026bb688216row14_col0\" class=\"data row14 col0\" >verification_status</td> \n",
       "        <td id=\"T_6da50a78_b267_11ea_9512_0026bb688216row14_col1\" class=\"data row14 col1\" >object</td> \n",
       "        <td id=\"T_6da50a78_b267_11ea_9512_0026bb688216row14_col2\" class=\"data row14 col2\" >Indicates if income was verified by LC, not verified, or if the income source was verified</td> \n",
       "    </tr>    <tr> \n",
       "        <th id=\"T_6da50a78_b267_11ea_9512_0026bb688216level0_row15\" class=\"row_heading level0 row15\" >15</th> \n",
       "        <td id=\"T_6da50a78_b267_11ea_9512_0026bb688216row15_col0\" class=\"data row15 col0\" >issue_d</td> \n",
       "        <td id=\"T_6da50a78_b267_11ea_9512_0026bb688216row15_col1\" class=\"data row15 col1\" >object</td> \n",
       "        <td id=\"T_6da50a78_b267_11ea_9512_0026bb688216row15_col2\" class=\"data row15 col2\" >The month which the loan was funded</td> \n",
       "    </tr>    <tr> \n",
       "        <th id=\"T_6da50a78_b267_11ea_9512_0026bb688216level0_row16\" class=\"row_heading level0 row16\" >16</th> \n",
       "        <td id=\"T_6da50a78_b267_11ea_9512_0026bb688216row16_col0\" class=\"data row16 col0\" >loan_status</td> \n",
       "        <td id=\"T_6da50a78_b267_11ea_9512_0026bb688216row16_col1\" class=\"data row16 col1\" >object</td> \n",
       "        <td id=\"T_6da50a78_b267_11ea_9512_0026bb688216row16_col2\" class=\"data row16 col2\" >Current status of the loan</td> \n",
       "    </tr>    <tr> \n",
       "        <th id=\"T_6da50a78_b267_11ea_9512_0026bb688216level0_row17\" class=\"row_heading level0 row17\" >17</th> \n",
       "        <td id=\"T_6da50a78_b267_11ea_9512_0026bb688216row17_col0\" class=\"data row17 col0\" >pymnt_plan</td> \n",
       "        <td id=\"T_6da50a78_b267_11ea_9512_0026bb688216row17_col1\" class=\"data row17 col1\" >object</td> \n",
       "        <td id=\"T_6da50a78_b267_11ea_9512_0026bb688216row17_col2\" class=\"data row17 col2\" >Indicates if a payment plan has been put in place for the loan</td> \n",
       "    </tr>    <tr> \n",
       "        <th id=\"T_6da50a78_b267_11ea_9512_0026bb688216level0_row18\" class=\"row_heading level0 row18\" >18</th> \n",
       "        <td id=\"T_6da50a78_b267_11ea_9512_0026bb688216row18_col0\" class=\"data row18 col0\" >url</td> \n",
       "        <td id=\"T_6da50a78_b267_11ea_9512_0026bb688216row18_col1\" class=\"data row18 col1\" >object</td> \n",
       "        <td id=\"T_6da50a78_b267_11ea_9512_0026bb688216row18_col2\" class=\"data row18 col2\" >URL for the LC page with listing data.</td> \n",
       "    </tr>    <tr> \n",
       "        <th id=\"T_6da50a78_b267_11ea_9512_0026bb688216level0_row19\" class=\"row_heading level0 row19\" >19</th> \n",
       "        <td id=\"T_6da50a78_b267_11ea_9512_0026bb688216row19_col0\" class=\"data row19 col0\" >desc</td> \n",
       "        <td id=\"T_6da50a78_b267_11ea_9512_0026bb688216row19_col1\" class=\"data row19 col1\" >object</td> \n",
       "        <td id=\"T_6da50a78_b267_11ea_9512_0026bb688216row19_col2\" class=\"data row19 col2\" >Loan description provided by the borrower</td> \n",
       "    </tr></tbody> \n",
       "</table> "
      ],
      "text/plain": [
       "<pandas.io.formats.style.Styler at 0x122d67e48>"
      ]
     },
     "execution_count": 56,
     "metadata": {},
     "output_type": "execute_result"
    }
   ],
   "source": [
    "vlookup.head(20).style.set_properties(subset=['Description'], **{'width': '1000px'})\n",
    "#Just using head() to make it visually easier for you to follow here. Otherwise I wouldn't, so I can see and go through \n",
    "#the whole results"
   ]
  },
  {
   "cell_type": "markdown",
   "metadata": {},
   "source": [
    "**Let's start by looking at the columns and their description to see if there are columns that won't contribute to our purpose so we acn remove them. This is time consuming but worth it. After going through them I decided below colomuns can be removed. They were chosen because either they had nothing to do with a brrower paying back the ooan such as Id or member id, or anything that is about feature meaning after the loan is approved, or anything that is bad formatted and is redundant.\n",
    "**id / member_id / funded_amnt / funded_amnt_inv / sub_grade / int_rate./ emp_title / issued_d / zip_code / out_prncp  / out_prncp_inv./ total_pymnt / total_pymnt_inv/ total_rec_prncp / total_rec_int/ total_rec_late_fee / recoveries/ collection_recovery_fee/ last_pymnt_d/ last_pymnt_amnt**"
   ]
  },
  {
   "cell_type": "code",
   "execution_count": 9,
   "metadata": {
    "scrolled": false
   },
   "outputs": [],
   "source": [
    "df=df.drop (['id','int_rate','total_pymnt','total_rec_late_fee','member_id','sub_grade','total_pymnt_inv',\n",
    "             'recoveries','funded_amnt','emp_title','total_rec_prncp','collection_recovery_fee','funded_amnt_inv',\n",
    "             'issue_d','total_rec_int','last_pymnt_d','zip_code','out_prncp','last_pymnt_amnt','out_prncp_inv',\n",
    "             'installment','last_credit_pull_d','last_fico_range_high','last_fico_range_low','sec_app_fico_range_low','sec_app_fico_range_high','loan_amnt',\n",
    "             'next_pymnt_d','num_tl_120dpd_2m','num_tl_30dpd','url','title','addr_state'],axis=1)"
   ]
  },
  {
   "cell_type": "markdown",
   "metadata": {},
   "source": [
    "**Also, there are a few columns that I like to look dipper into them. FICO scores columns. I realized that there are 6 columns for FICO score. fico_range_low, fico_range_high, last_fico_range_low,last_fico_range_high,sec_app_fico_range_low\t,sec_app_fico_range_high. It seems that when you apply for a loan Lending club assigns you with a FICO score limit, meaning a lower and higher range. As all the other institutions that borrow money, Lending club updates your score once in a while and marks it by last_. We for sure don't need the 2 columns that gets updated after the loan is approved since they are in the future and don't have anything to do with deciding to approve the loan or not, the same goes for sec_app_fico_range ones. I would like to combine the other 2 columns into one FICO score. Maybe the best way to do it is by getting an average of the 2 number. Let's take a look. **"
   ]
  },
  {
   "cell_type": "code",
   "execution_count": 10,
   "metadata": {
    "scrolled": false
   },
   "outputs": [],
   "source": [
    "df['FICO']=(df['fico_range_high']+df['fico_range_low']) /2"
   ]
  },
  {
   "cell_type": "code",
   "execution_count": 11,
   "metadata": {
    "scrolled": false
   },
   "outputs": [
    {
     "data": {
      "text/html": [
       "<div>\n",
       "<style scoped>\n",
       "    .dataframe tbody tr th:only-of-type {\n",
       "        vertical-align: middle;\n",
       "    }\n",
       "\n",
       "    .dataframe tbody tr th {\n",
       "        vertical-align: top;\n",
       "    }\n",
       "\n",
       "    .dataframe thead th {\n",
       "        text-align: right;\n",
       "    }\n",
       "</style>\n",
       "<table border=\"1\" class=\"dataframe\">\n",
       "  <thead>\n",
       "    <tr style=\"text-align: right;\">\n",
       "      <th></th>\n",
       "      <th>fico_range_low</th>\n",
       "      <th>fico_range_high</th>\n",
       "      <th>FICO</th>\n",
       "    </tr>\n",
       "  </thead>\n",
       "  <tbody>\n",
       "    <tr>\n",
       "      <th>0</th>\n",
       "      <td>710</td>\n",
       "      <td>714</td>\n",
       "      <td>712.0</td>\n",
       "    </tr>\n",
       "    <tr>\n",
       "      <th>1</th>\n",
       "      <td>750</td>\n",
       "      <td>754</td>\n",
       "      <td>752.0</td>\n",
       "    </tr>\n",
       "    <tr>\n",
       "      <th>2</th>\n",
       "      <td>680</td>\n",
       "      <td>684</td>\n",
       "      <td>682.0</td>\n",
       "    </tr>\n",
       "    <tr>\n",
       "      <th>3</th>\n",
       "      <td>665</td>\n",
       "      <td>669</td>\n",
       "      <td>667.0</td>\n",
       "    </tr>\n",
       "    <tr>\n",
       "      <th>4</th>\n",
       "      <td>685</td>\n",
       "      <td>689</td>\n",
       "      <td>687.0</td>\n",
       "    </tr>\n",
       "  </tbody>\n",
       "</table>\n",
       "</div>"
      ],
      "text/plain": [
       "   fico_range_low  fico_range_high   FICO\n",
       "0             710              714  712.0\n",
       "1             750              754  752.0\n",
       "2             680              684  682.0\n",
       "3             665              669  667.0\n",
       "4             685              689  687.0"
      ]
     },
     "execution_count": 11,
     "metadata": {},
     "output_type": "execute_result"
    }
   ],
   "source": [
    "fico_columns = ['fico_range_low','fico_range_high','FICO']\n",
    "df[fico_columns].head()"
   ]
  },
  {
   "cell_type": "code",
   "execution_count": 12,
   "metadata": {
    "scrolled": false
   },
   "outputs": [],
   "source": [
    "df=df.drop (['fico_range_low','fico_range_high'],axis=1)"
   ]
  },
  {
   "cell_type": "markdown",
   "metadata": {},
   "source": [
    "**let’s first look at the summary of the. Below function was written by Leonardo Ferreira (Lending Club - Insightful Financial EDA), and it perfectly does the summarizing job. There are many other ways of doing that, but I found this function easy and quick.**"
   ]
  },
  {
   "cell_type": "code",
   "execution_count": 13,
   "metadata": {
    "scrolled": false
   },
   "outputs": [],
   "source": [
    "def resumetable(df):\n",
    "    print(f\"Dataset Shape: {df.shape}\")\n",
    "    summary = pd.DataFrame(df.dtypes,columns=['dtypes'])\n",
    "    summary = summary.reset_index()\n",
    "    summary['Name'] = summary['index']\n",
    "    summary = summary[['Name','dtypes']]\n",
    "    summary['Missing'] = df.isnull().sum().values    \n",
    "    summary['Uniques'] = df.nunique().values\n",
    "    summary['First Value'] = df.loc[0].values\n",
    "    summary['Second Value'] = df.loc[1].values\n",
    "    summary['Third Value'] = df.loc[2].values\n",
    "\n",
    "    for name in summary['Name'].value_counts().index:\n",
    "        summary.loc[summary['Name'] == name, 'Entropy'] = round(stats.entropy(df[name].value_counts(normalize=True), base=2),2) \n",
    "\n",
    "    return summary"
   ]
  },
  {
   "cell_type": "code",
   "execution_count": 14,
   "metadata": {
    "scrolled": true
   },
   "outputs": [
    {
     "name": "stdout",
     "output_type": "stream",
     "text": [
      "Dataset Shape: (656724, 116)\n"
     ]
    },
    {
     "data": {
      "text/html": [
       "<div>\n",
       "<style scoped>\n",
       "    .dataframe tbody tr th:only-of-type {\n",
       "        vertical-align: middle;\n",
       "    }\n",
       "\n",
       "    .dataframe tbody tr th {\n",
       "        vertical-align: top;\n",
       "    }\n",
       "\n",
       "    .dataframe thead th {\n",
       "        text-align: right;\n",
       "    }\n",
       "</style>\n",
       "<table border=\"1\" class=\"dataframe\">\n",
       "  <thead>\n",
       "    <tr style=\"text-align: right;\">\n",
       "      <th></th>\n",
       "      <th>Name</th>\n",
       "      <th>dtypes</th>\n",
       "      <th>Missing</th>\n",
       "      <th>Uniques</th>\n",
       "      <th>First Value</th>\n",
       "      <th>Second Value</th>\n",
       "      <th>Third Value</th>\n",
       "      <th>Entropy</th>\n",
       "    </tr>\n",
       "  </thead>\n",
       "  <tbody>\n",
       "    <tr>\n",
       "      <th>0</th>\n",
       "      <td>term</td>\n",
       "      <td>object</td>\n",
       "      <td>0</td>\n",
       "      <td>2</td>\n",
       "      <td>36 months</td>\n",
       "      <td>60 months</td>\n",
       "      <td>36 months</td>\n",
       "      <td>0.91</td>\n",
       "    </tr>\n",
       "    <tr>\n",
       "      <th>1</th>\n",
       "      <td>grade</td>\n",
       "      <td>object</td>\n",
       "      <td>0</td>\n",
       "      <td>7</td>\n",
       "      <td>A</td>\n",
       "      <td>C</td>\n",
       "      <td>C</td>\n",
       "      <td>2.36</td>\n",
       "    </tr>\n",
       "    <tr>\n",
       "      <th>2</th>\n",
       "      <td>emp_length</td>\n",
       "      <td>object</td>\n",
       "      <td>35836</td>\n",
       "      <td>11</td>\n",
       "      <td>8 years</td>\n",
       "      <td>10+ years</td>\n",
       "      <td>10+ years</td>\n",
       "      <td>3.05</td>\n",
       "    </tr>\n",
       "    <tr>\n",
       "      <th>3</th>\n",
       "      <td>home_ownership</td>\n",
       "      <td>object</td>\n",
       "      <td>0</td>\n",
       "      <td>4</td>\n",
       "      <td>MORTGAGE</td>\n",
       "      <td>RENT</td>\n",
       "      <td>RENT</td>\n",
       "      <td>1.37</td>\n",
       "    </tr>\n",
       "    <tr>\n",
       "      <th>4</th>\n",
       "      <td>annual_inc</td>\n",
       "      <td>float64</td>\n",
       "      <td>0</td>\n",
       "      <td>38814</td>\n",
       "      <td>58000</td>\n",
       "      <td>78000</td>\n",
       "      <td>69000</td>\n",
       "      <td>8.20</td>\n",
       "    </tr>\n",
       "  </tbody>\n",
       "</table>\n",
       "</div>"
      ],
      "text/plain": [
       "             Name   dtypes  Missing  Uniques First Value Second Value  \\\n",
       "0            term   object        0        2   36 months    60 months   \n",
       "1           grade   object        0        7           A            C   \n",
       "2      emp_length   object    35836       11     8 years    10+ years   \n",
       "3  home_ownership   object        0        4    MORTGAGE         RENT   \n",
       "4      annual_inc  float64        0    38814       58000        78000   \n",
       "\n",
       "  Third Value  Entropy  \n",
       "0   36 months     0.91  \n",
       "1           C     2.36  \n",
       "2   10+ years     3.05  \n",
       "3        RENT     1.37  \n",
       "4       69000     8.20  "
      ]
     },
     "execution_count": 14,
     "metadata": {},
     "output_type": "execute_result"
    }
   ],
   "source": [
    "resumetable(df).head()\n",
    "#Just using head() to make it visually easier for you to follow here. Otherwise I wouldn't, so I can see and go through \n",
    "#the whole results"
   ]
  },
  {
   "cell_type": "markdown",
   "metadata": {},
   "source": [
    "**Now that we have 116 columns or features. let’s start by handling missing values and first removing the columns that have too many null values that practically we won't be able to use them. As it can be seen in the summary query result there are columns with total number of missing values that are way more than the total number of data in one column. So, we might be able to remove some of these columns. Let’s dig in.**"
   ]
  },
  {
   "cell_type": "code",
   "execution_count": 15,
   "metadata": {
    "scrolled": false
   },
   "outputs": [
    {
     "name": "stdout",
     "output_type": "stream",
     "text": [
      "columns with missing values: 66\n",
      "columns with no missing values: 50\n",
      "All columns in the dataframe: 116\n"
     ]
    }
   ],
   "source": [
    "#Let's see how many columns contain null values and how many don't.\n",
    "print(\"columns with missing values:\", len(df.columns[df.isna().any()]))\n",
    "print(\"columns with no missing values:\", len(df.columns[df.notna().all()]))\n",
    "print(\"All columns in the dataframe:\",len(df.columns))"
   ]
  },
  {
   "cell_type": "markdown",
   "metadata": {},
   "source": [
    "**Now let’s calculate the Percentage of missing values in each column. I am going to modify my summary function and try to use is to calculate this**"
   ]
  },
  {
   "cell_type": "code",
   "execution_count": 16,
   "metadata": {
    "scrolled": true
   },
   "outputs": [
    {
     "data": {
      "text/html": [
       "<div>\n",
       "<style scoped>\n",
       "    .dataframe tbody tr th:only-of-type {\n",
       "        vertical-align: middle;\n",
       "    }\n",
       "\n",
       "    .dataframe tbody tr th {\n",
       "        vertical-align: top;\n",
       "    }\n",
       "\n",
       "    .dataframe thead th {\n",
       "        text-align: right;\n",
       "    }\n",
       "</style>\n",
       "<table border=\"1\" class=\"dataframe\">\n",
       "  <thead>\n",
       "    <tr style=\"text-align: right;\">\n",
       "      <th></th>\n",
       "      <th>Count</th>\n",
       "      <th>Percent</th>\n",
       "    </tr>\n",
       "  </thead>\n",
       "  <tbody>\n",
       "    <tr>\n",
       "      <th>sec_app_open_acc</th>\n",
       "      <td>656724</td>\n",
       "      <td>100.0</td>\n",
       "    </tr>\n",
       "    <tr>\n",
       "      <th>sec_app_open_act_il</th>\n",
       "      <td>656724</td>\n",
       "      <td>100.0</td>\n",
       "    </tr>\n",
       "    <tr>\n",
       "      <th>sec_app_num_rev_accts</th>\n",
       "      <td>656724</td>\n",
       "      <td>100.0</td>\n",
       "    </tr>\n",
       "    <tr>\n",
       "      <th>sec_app_mort_acc</th>\n",
       "      <td>656724</td>\n",
       "      <td>100.0</td>\n",
       "    </tr>\n",
       "    <tr>\n",
       "      <th>sec_app_inq_last_6mths</th>\n",
       "      <td>656724</td>\n",
       "      <td>100.0</td>\n",
       "    </tr>\n",
       "  </tbody>\n",
       "</table>\n",
       "</div>"
      ],
      "text/plain": [
       "                         Count  Percent\n",
       "sec_app_open_acc        656724    100.0\n",
       "sec_app_open_act_il     656724    100.0\n",
       "sec_app_num_rev_accts   656724    100.0\n",
       "sec_app_mort_acc        656724    100.0\n",
       "sec_app_inq_last_6mths  656724    100.0"
      ]
     },
     "execution_count": 16,
     "metadata": {},
     "output_type": "execute_result"
    }
   ],
   "source": [
    "null_v = df.isnull().sum()\n",
    "null_v_per = round (100 * df.isnull().sum() / len(df),2)\n",
    "#now let's create table view of the the two side by side\n",
    "missing_value_table = pd.DataFrame({'Count': null_v, 'Percent': null_v_per })\n",
    "missing_value_table[(missing_value_table['Count']>2) & (missing_value_table['Percent']>50)].sort_values('Percent',ascending=False).head()\n",
    "#Just using head() to make it visually easier for you to follow here. Otherwise I wouldn't, so I can see and go through \n",
    "#the whole results"
   ]
  },
  {
   "cell_type": "markdown",
   "metadata": {},
   "source": [
    "**As it can be seen there are column or features withn more than 80% missing or null value in them. These feature won't be helping us. So I will drrop any column that has a null value percentage of above %80**"
   ]
  },
  {
   "cell_type": "code",
   "execution_count": 17,
   "metadata": {
    "scrolled": false
   },
   "outputs": [],
   "source": [
    "#too_many_null = [i for i in df.count()<128260 *0.80]\n",
    "#df.drop(df.columns[too_many_null],axis=1,inplace=True)\n",
    "\n",
    "df = df.dropna(axis=1, thresh=int(0.80*len(df)))"
   ]
  },
  {
   "cell_type": "code",
   "execution_count": 18,
   "metadata": {
    "scrolled": false
   },
   "outputs": [
    {
     "name": "stdout",
     "output_type": "stream",
     "text": [
      "columns with missing values: 12\n",
      "columns with no missing values: 50\n",
      "All columns in the dataframe: 62\n"
     ]
    }
   ],
   "source": [
    "print(\"columns with missing values:\", len(df.columns[df.isna().any()]))\n",
    "print(\"columns with no missing values:\", len(df.columns[df.notna().all()]))\n",
    "print(\"All columns in the dataframe:\",len(df.columns))"
   ]
  },
  {
   "cell_type": "code",
   "execution_count": 19,
   "metadata": {
    "scrolled": true
   },
   "outputs": [
    {
     "name": "stdout",
     "output_type": "stream",
     "text": [
      "Dataset Shape: (656724, 62)\n"
     ]
    },
    {
     "data": {
      "text/html": [
       "<div>\n",
       "<style scoped>\n",
       "    .dataframe tbody tr th:only-of-type {\n",
       "        vertical-align: middle;\n",
       "    }\n",
       "\n",
       "    .dataframe tbody tr th {\n",
       "        vertical-align: top;\n",
       "    }\n",
       "\n",
       "    .dataframe thead th {\n",
       "        text-align: right;\n",
       "    }\n",
       "</style>\n",
       "<table border=\"1\" class=\"dataframe\">\n",
       "  <thead>\n",
       "    <tr style=\"text-align: right;\">\n",
       "      <th></th>\n",
       "      <th>Name</th>\n",
       "      <th>dtypes</th>\n",
       "      <th>Missing</th>\n",
       "      <th>Uniques</th>\n",
       "      <th>First Value</th>\n",
       "      <th>Second Value</th>\n",
       "      <th>Third Value</th>\n",
       "      <th>Entropy</th>\n",
       "    </tr>\n",
       "  </thead>\n",
       "  <tbody>\n",
       "    <tr>\n",
       "      <th>0</th>\n",
       "      <td>term</td>\n",
       "      <td>object</td>\n",
       "      <td>0</td>\n",
       "      <td>2</td>\n",
       "      <td>36 months</td>\n",
       "      <td>60 months</td>\n",
       "      <td>36 months</td>\n",
       "      <td>0.91</td>\n",
       "    </tr>\n",
       "    <tr>\n",
       "      <th>1</th>\n",
       "      <td>grade</td>\n",
       "      <td>object</td>\n",
       "      <td>0</td>\n",
       "      <td>7</td>\n",
       "      <td>A</td>\n",
       "      <td>C</td>\n",
       "      <td>C</td>\n",
       "      <td>2.36</td>\n",
       "    </tr>\n",
       "    <tr>\n",
       "      <th>2</th>\n",
       "      <td>emp_length</td>\n",
       "      <td>object</td>\n",
       "      <td>35836</td>\n",
       "      <td>11</td>\n",
       "      <td>8 years</td>\n",
       "      <td>10+ years</td>\n",
       "      <td>10+ years</td>\n",
       "      <td>3.05</td>\n",
       "    </tr>\n",
       "    <tr>\n",
       "      <th>3</th>\n",
       "      <td>home_ownership</td>\n",
       "      <td>object</td>\n",
       "      <td>0</td>\n",
       "      <td>4</td>\n",
       "      <td>MORTGAGE</td>\n",
       "      <td>RENT</td>\n",
       "      <td>RENT</td>\n",
       "      <td>1.37</td>\n",
       "    </tr>\n",
       "    <tr>\n",
       "      <th>4</th>\n",
       "      <td>annual_inc</td>\n",
       "      <td>float64</td>\n",
       "      <td>0</td>\n",
       "      <td>38814</td>\n",
       "      <td>58000</td>\n",
       "      <td>78000</td>\n",
       "      <td>69000</td>\n",
       "      <td>8.20</td>\n",
       "    </tr>\n",
       "  </tbody>\n",
       "</table>\n",
       "</div>"
      ],
      "text/plain": [
       "             Name   dtypes  Missing  Uniques First Value Second Value  \\\n",
       "0            term   object        0        2   36 months    60 months   \n",
       "1           grade   object        0        7           A            C   \n",
       "2      emp_length   object    35836       11     8 years    10+ years   \n",
       "3  home_ownership   object        0        4    MORTGAGE         RENT   \n",
       "4      annual_inc  float64        0    38814       58000        78000   \n",
       "\n",
       "  Third Value  Entropy  \n",
       "0   36 months     0.91  \n",
       "1           C     2.36  \n",
       "2   10+ years     3.05  \n",
       "3        RENT     1.37  \n",
       "4       69000     8.20  "
      ]
     },
     "execution_count": 19,
     "metadata": {},
     "output_type": "execute_result"
    }
   ],
   "source": [
    "#let's check the summary again, \n",
    "resumetable(df).head()\n",
    "#Just using head() to make it visually easier for you to follow here. Otherwise I wouldn't, so I can see and go through \n",
    "#the whole results"
   ]
  },
  {
   "cell_type": "markdown",
   "metadata": {},
   "source": [
    "**From above we can see that there are a few columns that have only one unique value. Those also won't be helpful in our modeling. We will dropm them as well.**"
   ]
  },
  {
   "cell_type": "code",
   "execution_count": 20,
   "metadata": {
    "scrolled": false
   },
   "outputs": [],
   "source": [
    "df = df.loc[:,df.apply(pd.Series.nunique) != 1]"
   ]
  },
  {
   "cell_type": "markdown",
   "metadata": {},
   "source": [
    "There are also a few columns with more than 1 unique value but one of the unique values has been repeated many times. so, the other ones don’t matter much. That makes these columns similar to the ones with only one unique value. So, we can drop them too. I checked those for columns that had less than 6 unique value and end up with going with the ones with only 4."
   ]
  },
  {
   "cell_type": "code",
   "execution_count": 21,
   "metadata": {
    "scrolled": true
   },
   "outputs": [
    {
     "name": "stdout",
     "output_type": "stream",
     "text": [
      " 36 months    445743\n",
      " 60 months    210981\n",
      "Name: term, dtype: int64\n",
      "\n",
      "Source Verified    284655\n",
      "Verified           190245\n",
      "Not Verified       181824\n",
      "Name: verification_status, dtype: int64\n",
      "\n",
      "w    390725\n",
      "f    265999\n",
      "Name: initial_list_status, dtype: int64\n",
      "\n",
      "Individual    656213\n",
      "Joint App        511\n",
      "Name: application_type, dtype: int64\n",
      "\n",
      "N    653829\n",
      "Y      1519\n",
      "Name: hardship_flag, dtype: int64\n",
      "\n",
      "N    639019\n",
      "Y     17705\n",
      "Name: debt_settlement_flag, dtype: int64\n",
      "\n"
     ]
    }
   ],
   "source": [
    "for i in df.columns:\n",
    "    if (len(df[i].unique())<4):\n",
    "        print(df[i].value_counts())\n",
    "        print()"
   ]
  },
  {
   "cell_type": "code",
   "execution_count": 22,
   "metadata": {
    "scrolled": false
   },
   "outputs": [],
   "source": [
    "df=df.drop (['debt_settlement_flag','hardship_flag',\n",
    "'application_type'],axis=1)"
   ]
  },
  {
   "cell_type": "code",
   "execution_count": 23,
   "metadata": {
    "scrolled": false
   },
   "outputs": [
    {
     "data": {
      "text/plain": [
       "(656724, 57)"
      ]
     },
     "execution_count": 23,
     "metadata": {},
     "output_type": "execute_result"
    }
   ],
   "source": [
    "df.shape"
   ]
  },
  {
   "cell_type": "markdown",
   "metadata": {},
   "source": [
    "**Lets see how many more columns that have more than 2 missding values are left and what is their data type. "
   ]
  },
  {
   "cell_type": "code",
   "execution_count": 24,
   "metadata": {
    "scrolled": false
   },
   "outputs": [
    {
     "data": {
      "text/html": [
       "<div>\n",
       "<style scoped>\n",
       "    .dataframe tbody tr th:only-of-type {\n",
       "        vertical-align: middle;\n",
       "    }\n",
       "\n",
       "    .dataframe tbody tr th {\n",
       "        vertical-align: top;\n",
       "    }\n",
       "\n",
       "    .dataframe thead th {\n",
       "        text-align: right;\n",
       "    }\n",
       "</style>\n",
       "<table border=\"1\" class=\"dataframe\">\n",
       "  <thead>\n",
       "    <tr style=\"text-align: right;\">\n",
       "      <th></th>\n",
       "      <th>Count</th>\n",
       "      <th>Percent</th>\n",
       "      <th>Data_type</th>\n",
       "    </tr>\n",
       "  </thead>\n",
       "  <tbody>\n",
       "    <tr>\n",
       "      <th>mths_since_recent_inq</th>\n",
       "      <td>66291</td>\n",
       "      <td>10.09</td>\n",
       "      <td>int64</td>\n",
       "    </tr>\n",
       "    <tr>\n",
       "      <th>emp_length</th>\n",
       "      <td>35836</td>\n",
       "      <td>5.46</td>\n",
       "      <td>int64</td>\n",
       "    </tr>\n",
       "    <tr>\n",
       "      <th>mo_sin_old_il_acct</th>\n",
       "      <td>19425</td>\n",
       "      <td>2.96</td>\n",
       "      <td>int64</td>\n",
       "    </tr>\n",
       "    <tr>\n",
       "      <th>bc_util</th>\n",
       "      <td>6838</td>\n",
       "      <td>1.04</td>\n",
       "      <td>int64</td>\n",
       "    </tr>\n",
       "    <tr>\n",
       "      <th>percent_bc_gt_75</th>\n",
       "      <td>6796</td>\n",
       "      <td>1.03</td>\n",
       "      <td>int64</td>\n",
       "    </tr>\n",
       "    <tr>\n",
       "      <th>bc_open_to_buy</th>\n",
       "      <td>6408</td>\n",
       "      <td>0.98</td>\n",
       "      <td>int64</td>\n",
       "    </tr>\n",
       "    <tr>\n",
       "      <th>mths_since_recent_bc</th>\n",
       "      <td>6044</td>\n",
       "      <td>0.92</td>\n",
       "      <td>int64</td>\n",
       "    </tr>\n",
       "    <tr>\n",
       "      <th>revol_util</th>\n",
       "      <td>287</td>\n",
       "      <td>0.04</td>\n",
       "      <td>int64</td>\n",
       "    </tr>\n",
       "    <tr>\n",
       "      <th>avg_cur_bal</th>\n",
       "      <td>6</td>\n",
       "      <td>0.00</td>\n",
       "      <td>int64</td>\n",
       "    </tr>\n",
       "  </tbody>\n",
       "</table>\n",
       "</div>"
      ],
      "text/plain": [
       "                       Count  Percent Data_type\n",
       "mths_since_recent_inq  66291    10.09     int64\n",
       "emp_length             35836     5.46     int64\n",
       "mo_sin_old_il_acct     19425     2.96     int64\n",
       "bc_util                 6838     1.04     int64\n",
       "percent_bc_gt_75        6796     1.03     int64\n",
       "bc_open_to_buy          6408     0.98     int64\n",
       "mths_since_recent_bc    6044     0.92     int64\n",
       "revol_util               287     0.04     int64\n",
       "avg_cur_bal                6     0.00     int64"
      ]
     },
     "execution_count": 24,
     "metadata": {},
     "output_type": "execute_result"
    }
   ],
   "source": [
    "null_v2 = df.isnull().sum()\n",
    "null_v2_Data_type=null_v2.dtypes\n",
    "null_v_per2 = round (100 * df.isnull().sum() / len(df),2)\n",
    "#now let's create table view of the the two side by side\n",
    "missing_value_table2 = pd.DataFrame({'Count': null_v2, 'Percent': null_v_per2, 'Data_type':null_v2_Data_type })\n",
    "final_missning=missing_value_table2[missing_value_table2['Count'] >2].sort_values('Percent',ascending=False)\n",
    "final_missning"
   ]
  },
  {
   "cell_type": "markdown",
   "metadata": {},
   "source": [
    "**All 10 above columns with more than 2 missing values have a data type of integer. We can easily find a solution to handel the missing values in this columns. But first let's look through the description and see if there is anything that won't be useful so we can drop."
   ]
  },
  {
   "cell_type": "code",
   "execution_count": 25,
   "metadata": {
    "scrolled": false
   },
   "outputs": [
    {
     "data": {
      "text/html": [
       "<style  type=\"text/css\" >\n",
       "    #T_55c5a544_b266_11ea_9512_0026bb688216row0_col2 {\n",
       "            width:  1000px;\n",
       "        }    #T_55c5a544_b266_11ea_9512_0026bb688216row1_col2 {\n",
       "            width:  1000px;\n",
       "        }    #T_55c5a544_b266_11ea_9512_0026bb688216row2_col2 {\n",
       "            width:  1000px;\n",
       "        }    #T_55c5a544_b266_11ea_9512_0026bb688216row3_col2 {\n",
       "            width:  1000px;\n",
       "        }    #T_55c5a544_b266_11ea_9512_0026bb688216row4_col2 {\n",
       "            width:  1000px;\n",
       "        }    #T_55c5a544_b266_11ea_9512_0026bb688216row5_col2 {\n",
       "            width:  1000px;\n",
       "        }    #T_55c5a544_b266_11ea_9512_0026bb688216row6_col2 {\n",
       "            width:  1000px;\n",
       "        }    #T_55c5a544_b266_11ea_9512_0026bb688216row7_col2 {\n",
       "            width:  1000px;\n",
       "        }    #T_55c5a544_b266_11ea_9512_0026bb688216row8_col2 {\n",
       "            width:  1000px;\n",
       "        }</style>  \n",
       "<table id=\"T_55c5a544_b266_11ea_9512_0026bb688216\" > \n",
       "<thead>    <tr> \n",
       "        <th class=\"blank level0\" ></th> \n",
       "        <th class=\"col_heading level0 col0\" >Name</th> \n",
       "        <th class=\"col_heading level0 col1\" >Data_type</th> \n",
       "        <th class=\"col_heading level0 col2\" >Description</th> \n",
       "    </tr></thead> \n",
       "<tbody>    <tr> \n",
       "        <th id=\"T_55c5a544_b266_11ea_9512_0026bb688216level0_row0\" class=\"row_heading level0 row0\" >0</th> \n",
       "        <td id=\"T_55c5a544_b266_11ea_9512_0026bb688216row0_col0\" class=\"data row0 col0\" >mths_since_recent_inq</td> \n",
       "        <td id=\"T_55c5a544_b266_11ea_9512_0026bb688216row0_col1\" class=\"data row0 col1\" >int64</td> \n",
       "        <td id=\"T_55c5a544_b266_11ea_9512_0026bb688216row0_col2\" class=\"data row0 col2\" >Months since most recent inquiry.</td> \n",
       "    </tr>    <tr> \n",
       "        <th id=\"T_55c5a544_b266_11ea_9512_0026bb688216level0_row1\" class=\"row_heading level0 row1\" >1</th> \n",
       "        <td id=\"T_55c5a544_b266_11ea_9512_0026bb688216row1_col0\" class=\"data row1 col0\" >emp_length</td> \n",
       "        <td id=\"T_55c5a544_b266_11ea_9512_0026bb688216row1_col1\" class=\"data row1 col1\" >int64</td> \n",
       "        <td id=\"T_55c5a544_b266_11ea_9512_0026bb688216row1_col2\" class=\"data row1 col2\" >Employment length in years. Possible values are between 0 and 10 where 0 means less than one year and 10 means ten or more years.</td> \n",
       "    </tr>    <tr> \n",
       "        <th id=\"T_55c5a544_b266_11ea_9512_0026bb688216level0_row2\" class=\"row_heading level0 row2\" >2</th> \n",
       "        <td id=\"T_55c5a544_b266_11ea_9512_0026bb688216row2_col0\" class=\"data row2 col0\" >mo_sin_old_il_acct</td> \n",
       "        <td id=\"T_55c5a544_b266_11ea_9512_0026bb688216row2_col1\" class=\"data row2 col1\" >int64</td> \n",
       "        <td id=\"T_55c5a544_b266_11ea_9512_0026bb688216row2_col2\" class=\"data row2 col2\" >Months since oldest bank installment account opened</td> \n",
       "    </tr>    <tr> \n",
       "        <th id=\"T_55c5a544_b266_11ea_9512_0026bb688216level0_row3\" class=\"row_heading level0 row3\" >3</th> \n",
       "        <td id=\"T_55c5a544_b266_11ea_9512_0026bb688216row3_col0\" class=\"data row3 col0\" >bc_util</td> \n",
       "        <td id=\"T_55c5a544_b266_11ea_9512_0026bb688216row3_col1\" class=\"data row3 col1\" >int64</td> \n",
       "        <td id=\"T_55c5a544_b266_11ea_9512_0026bb688216row3_col2\" class=\"data row3 col2\" >Ratio of total current balance to high credit/credit limit for all bankcard accounts.</td> \n",
       "    </tr>    <tr> \n",
       "        <th id=\"T_55c5a544_b266_11ea_9512_0026bb688216level0_row4\" class=\"row_heading level0 row4\" >4</th> \n",
       "        <td id=\"T_55c5a544_b266_11ea_9512_0026bb688216row4_col0\" class=\"data row4 col0\" >percent_bc_gt_75</td> \n",
       "        <td id=\"T_55c5a544_b266_11ea_9512_0026bb688216row4_col1\" class=\"data row4 col1\" >int64</td> \n",
       "        <td id=\"T_55c5a544_b266_11ea_9512_0026bb688216row4_col2\" class=\"data row4 col2\" >Percentage of all bankcard accounts > 75% of limit.</td> \n",
       "    </tr>    <tr> \n",
       "        <th id=\"T_55c5a544_b266_11ea_9512_0026bb688216level0_row5\" class=\"row_heading level0 row5\" >5</th> \n",
       "        <td id=\"T_55c5a544_b266_11ea_9512_0026bb688216row5_col0\" class=\"data row5 col0\" >bc_open_to_buy</td> \n",
       "        <td id=\"T_55c5a544_b266_11ea_9512_0026bb688216row5_col1\" class=\"data row5 col1\" >int64</td> \n",
       "        <td id=\"T_55c5a544_b266_11ea_9512_0026bb688216row5_col2\" class=\"data row5 col2\" >Total open to buy on revolving bankcards.</td> \n",
       "    </tr>    <tr> \n",
       "        <th id=\"T_55c5a544_b266_11ea_9512_0026bb688216level0_row6\" class=\"row_heading level0 row6\" >6</th> \n",
       "        <td id=\"T_55c5a544_b266_11ea_9512_0026bb688216row6_col0\" class=\"data row6 col0\" >mths_since_recent_bc</td> \n",
       "        <td id=\"T_55c5a544_b266_11ea_9512_0026bb688216row6_col1\" class=\"data row6 col1\" >int64</td> \n",
       "        <td id=\"T_55c5a544_b266_11ea_9512_0026bb688216row6_col2\" class=\"data row6 col2\" >Months since most recent bankcard account opened.</td> \n",
       "    </tr>    <tr> \n",
       "        <th id=\"T_55c5a544_b266_11ea_9512_0026bb688216level0_row7\" class=\"row_heading level0 row7\" >7</th> \n",
       "        <td id=\"T_55c5a544_b266_11ea_9512_0026bb688216row7_col0\" class=\"data row7 col0\" >revol_util</td> \n",
       "        <td id=\"T_55c5a544_b266_11ea_9512_0026bb688216row7_col1\" class=\"data row7 col1\" >int64</td> \n",
       "        <td id=\"T_55c5a544_b266_11ea_9512_0026bb688216row7_col2\" class=\"data row7 col2\" >Revolving line utilization rate, or the amount of credit the borrower is using relative to all available revolving credit.</td> \n",
       "    </tr>    <tr> \n",
       "        <th id=\"T_55c5a544_b266_11ea_9512_0026bb688216level0_row8\" class=\"row_heading level0 row8\" >8</th> \n",
       "        <td id=\"T_55c5a544_b266_11ea_9512_0026bb688216row8_col0\" class=\"data row8 col0\" >avg_cur_bal</td> \n",
       "        <td id=\"T_55c5a544_b266_11ea_9512_0026bb688216row8_col1\" class=\"data row8 col1\" >int64</td> \n",
       "        <td id=\"T_55c5a544_b266_11ea_9512_0026bb688216row8_col2\" class=\"data row8 col2\" >Average current balance of all accounts</td> \n",
       "    </tr></tbody> \n",
       "</table> "
      ],
      "text/plain": [
       "<pandas.io.formats.style.Styler at 0x1153383c8>"
      ]
     },
     "execution_count": 25,
     "metadata": {},
     "output_type": "execute_result"
    }
   ],
   "source": [
    "final_missning2 = final_missning.reset_index()\n",
    "final_missning2['Name'] = final_missning2['index']\n",
    "final_missning2 = final_missning2[['Name','Data_type']]\n",
    "vlookup2 = final_missning2.merge(dic_des, on='Name',how='left')\n",
    "vlookup2.style.set_properties(subset=['Description'], **{'width': '1000px'})"
   ]
  },
  {
   "cell_type": "markdown",
   "metadata": {},
   "source": [
    "***AlL the above seems to be usful, therefore we proceed to imputation. Imputation simply means replacing the missing values with an estimate. There are many different approaches and technics to imputation. There are only 3 columns that have a missing value percentage of grater than 3 % of total data. I will imputate those first.  "
   ]
  },
  {
   "cell_type": "code",
   "execution_count": 26,
   "metadata": {
    "scrolled": false
   },
   "outputs": [],
   "source": [
    "#mths_since_recent_inq= Months since most recent inquiry. and mo_sin_old_il_acct: Months since oldest bank installment account opened. For these columns I will use\n",
    "#fill with max value since if there is no value this means that there has never been a recent inquiry  or oldest bank installment\n",
    "#so the month since that time would be max. For this ratio column I will replace missing values the mean value of the column\n",
    "df['mths_since_recent_inq'].fillna(df['mths_since_recent_inq'].max(),inplace=True)\n",
    "df['mo_sin_old_il_acct'].fillna(df['mo_sin_old_il_acct'].max(),inplace=True)"
   ]
  },
  {
   "cell_type": "code",
   "execution_count": 27,
   "metadata": {
    "scrolled": false
   },
   "outputs": [
    {
     "data": {
      "text/plain": [
       "10+ years    221026\n",
       "2 years       57984\n",
       "< 1 year      52322\n",
       "3 years       51697\n",
       "1 year        42066\n",
       "4 years       38034\n",
       "5 years       37981\n",
       "8 years       33413\n",
       "7 years       31513\n",
       "6 years       28659\n",
       "9 years       26193\n",
       "Name: emp_length, dtype: int64"
      ]
     },
     "execution_count": 27,
     "metadata": {},
     "output_type": "execute_result"
    }
   ],
   "source": [
    "#let's first check emp_length column\n",
    "df['emp_length'].value_counts()"
   ]
  },
  {
   "cell_type": "code",
   "execution_count": 28,
   "metadata": {
    "scrolled": false
   },
   "outputs": [],
   "source": [
    "##emp_length= Employment length in years. Possible values are between 0 and 10 where 0 means less than one year and 10\n",
    "#means ten or more years. First, we need to fix the records and change their data type to integer. We will replace the \n",
    "#missimng values with 0 assuming that the borrower didn't have any employment history or had it for less than a year.\n",
    "#The we will use mapping thecnique to clean up the data. \n",
    "df['emp_length'].fillna(value=0,inplace=True)\n",
    "#df['emp_length'].replace(to_replace='[^0-9]+', value='',inplace=True, regex=True)\n",
    "#df['emp_length']=df['emp_length'].astype('float')"
   ]
  },
  {
   "cell_type": "code",
   "execution_count": 29,
   "metadata": {
    "scrolled": false
   },
   "outputs": [],
   "source": [
    "mappto = {\n",
    "\"emp_length\": {\n",
    "\"10+ years\": 10,\n",
    "\"9 years\": 9,\n",
    "\"8 years\": 8,\n",
    "\"7 years\": 7,\n",
    "\"6 years\": 6,\n",
    "\"5 years\": 5,\n",
    "\"4 years\": 4,\n",
    "\"3 years\": 3,\n",
    "\"2 years\": 2,\n",
    "\"1 year\": 1,\n",
    "\"< 1 year\": 0,\n",
    "\"0\": 0\n",
    "}}\n",
    "df= df.replace(mappto)"
   ]
  },
  {
   "cell_type": "code",
   "execution_count": 30,
   "metadata": {
    "scrolled": false
   },
   "outputs": [
    {
     "data": {
      "text/plain": [
       "10    221026\n",
       "0      88158\n",
       "2      57984\n",
       "3      51697\n",
       "1      42066\n",
       "4      38034\n",
       "5      37981\n",
       "8      33413\n",
       "7      31513\n",
       "6      28659\n",
       "9      26193\n",
       "Name: emp_length, dtype: int64"
      ]
     },
     "execution_count": 30,
     "metadata": {},
     "output_type": "execute_result"
    }
   ],
   "source": [
    "df['emp_length'].value_counts()"
   ]
  },
  {
   "cell_type": "code",
   "execution_count": 31,
   "metadata": {
    "scrolled": false
   },
   "outputs": [],
   "source": [
    "df['emp_length']=df['emp_length'].astype('float')"
   ]
  },
  {
   "cell_type": "code",
   "execution_count": 32,
   "metadata": {
    "scrolled": false
   },
   "outputs": [
    {
     "data": {
      "image/png": "[encoded data removed]",
      "text/plain": [
       "<Figure size 1080x720 with 1 Axes>"
      ]
     },
     "metadata": {
      "needs_background": "light"
     },
     "output_type": "display_data"
    }
   ],
   "source": [
    "df['emp_length'].value_counts().sort_values().plot(kind='bar',figsize=(15,10))\n",
    "plt.title('Number of loans distributed by Employment Years',fontsize=20)\n",
    "plt.xlabel('Number of loans',fontsize=15)\n",
    "plt.ylabel('Years worked',fontsize=15);"
   ]
  },
  {
   "cell_type": "markdown",
   "metadata": {},
   "source": [
    "**It appears that the browser with 10 or higher years of employment got a loan approval more than the others. However, we can see that the ones with less than a year are the second ion ranking. This might be because employment length is not the only factor to make a decision for lending club. Probably those with less than a year were granted a loan because they had other strong factors such as high salary, high credit score, or low requested loan amount and so on."
   ]
  },
  {
   "cell_type": "markdown",
   "metadata": {},
   "source": [
    "For all other columns that have missing vaue perncentage of 3 or less than 3% of total values,Since we have enough data to work on I am not going to use any of the imputation technics here. For simlicity I will just drop/delete the rows wehre there is a missing value."
   ]
  },
  {
   "cell_type": "code",
   "execution_count": 33,
   "metadata": {
    "scrolled": false
   },
   "outputs": [],
   "source": [
    "## dropping the null rows since we have sufficient amount of data and there is no need to fill the null values.\n",
    "df.dropna(axis=0,inplace=True)"
   ]
  },
  {
   "cell_type": "code",
   "execution_count": 34,
   "metadata": {
    "scrolled": false
   },
   "outputs": [
    {
     "data": {
      "text/plain": [
       "False"
      ]
     },
     "execution_count": 34,
     "metadata": {},
     "output_type": "execute_result"
    }
   ],
   "source": [
    "df.isnull().values.any()\n",
    "#no more missing or null values"
   ]
  },
  {
   "cell_type": "code",
   "execution_count": 35,
   "metadata": {
    "scrolled": false
   },
   "outputs": [
    {
     "data": {
      "text/plain": [
       "(649495, 57)"
      ]
     },
     "execution_count": 35,
     "metadata": {},
     "output_type": "execute_result"
    }
   ],
   "source": [
    "df.shape"
   ]
  },
  {
   "cell_type": "markdown",
   "metadata": {},
   "source": [
    "# Feature Engineering\n",
    "Feature Engineering goes hand in hand with Data cleaning and preparation. Meaning that we may have already done some Feature Engineering while we were performing Data cleaning and preparation. Here we will deep dive into it and finish our dataset, so it is ready for our Machin learning modeling. First let's pick and prepare our Target column/feature."
   ]
  },
  {
   "cell_type": "markdown",
   "metadata": {},
   "source": [
    "**The main goal of these practice is to model an algorithm that can most accurately predict whether if a potential borrower would be able to pay off or will default who will pay off a loan and who will default. The only column that would reflect this would be loan status. So let's look the column loan_status."
   ]
  },
  {
   "cell_type": "code",
   "execution_count": 36,
   "metadata": {
    "scrolled": false
   },
   "outputs": [
    {
     "data": {
      "text/plain": [
       "Fully Paid            511369\n",
       "Charged Off           119997\n",
       "Current                17361\n",
       "Late (31-120 days)       388\n",
       "In Grace Period          285\n",
       "Late (16-30 days)         75\n",
       "Default                   20\n",
       "Name: loan_status, dtype: int64"
      ]
     },
     "execution_count": 36,
     "metadata": {},
     "output_type": "execute_result"
    }
   ],
   "source": [
    "df['loan_status'].value_counts()"
   ]
  },
  {
   "cell_type": "markdown",
   "metadata": {},
   "source": [
    "**From Lending club website explanation, we can conclude that Fully Paid and Charged Off (We will merge 'Charged off' and 'Default' into one category of default) are our main goals. We won't be using any loan status indicating that the loan is ongoing or in progress, because obviously we can't predict based on something that hasn't reached its final status. So, we will be ignoring those and will be turn Fully Paid and Charged Off into binary of 1 and 0."
   ]
  },
  {
   "cell_type": "code",
   "execution_count": 37,
   "metadata": {
    "scrolled": false
   },
   "outputs": [],
   "source": [
    "df=df[df['loan_status'].isin(['Charged Off', 'Fully Paid', 'Default'])]"
   ]
  },
  {
   "cell_type": "code",
   "execution_count": 38,
   "metadata": {
    "scrolled": false
   },
   "outputs": [],
   "source": [
    "mapping={'loan_status':{'Fully Paid': 1, 'Charged Off': 0 , 'Default': 0}}"
   ]
  },
  {
   "cell_type": "code",
   "execution_count": 39,
   "metadata": {
    "scrolled": false
   },
   "outputs": [],
   "source": [
    "df=df.replace(mapping)"
   ]
  },
  {
   "cell_type": "code",
   "execution_count": 40,
   "metadata": {
    "scrolled": false
   },
   "outputs": [
    {
     "data": {
      "text/plain": [
       "1    511369\n",
       "0    120017\n",
       "Name: loan_status, dtype: int64"
      ]
     },
     "execution_count": 40,
     "metadata": {},
     "output_type": "execute_result"
    }
   ],
   "source": [
    "df['loan_status'].value_counts()"
   ]
  },
  {
   "cell_type": "code",
   "execution_count": 41,
   "metadata": {
    "scrolled": false
   },
   "outputs": [
    {
     "data": {
      "image/png": "[encoded data removed]",
      "text/plain": [
       "<Figure size 1008x504 with 2 Axes>"
      ]
     },
     "metadata": {
      "needs_background": "light"
     },
     "output_type": "display_data"
    }
   ],
   "source": [
    "#EDD of loan staus\n",
    "fig, axs = plt.subplots(1,2,figsize=(14,7))\n",
    "sns.countplot(x='loan_status',data=df,ax=axs[0])\n",
    "axs[0].set_title(\"Loan status by count\")\n",
    "df.loan_status.value_counts().plot(kind='pie', ax=axs[1],autopct='%1.2f%%')\n",
    "axs[1].set_title(\"Loan status by %\")\n",
    "plt.show()"
   ]
  },
  {
   "cell_type": "markdown",
   "metadata": {},
   "source": [
    "**From above we can tell that we are facing a imbalanced dataset. "
   ]
  },
  {
   "cell_type": "code",
   "execution_count": 42,
   "metadata": {
    "scrolled": true
   },
   "outputs": [
    {
     "name": "stdout",
     "output_type": "stream",
     "text": [
      "Dataset Shape: (631386, 57)\n"
     ]
    },
    {
     "data": {
      "text/html": [
       "<div>\n",
       "<style scoped>\n",
       "    .dataframe tbody tr th:only-of-type {\n",
       "        vertical-align: middle;\n",
       "    }\n",
       "\n",
       "    .dataframe tbody tr th {\n",
       "        vertical-align: top;\n",
       "    }\n",
       "\n",
       "    .dataframe thead th {\n",
       "        text-align: right;\n",
       "    }\n",
       "</style>\n",
       "<table border=\"1\" class=\"dataframe\">\n",
       "  <thead>\n",
       "    <tr style=\"text-align: right;\">\n",
       "      <th></th>\n",
       "      <th>Name</th>\n",
       "      <th>dtypes</th>\n",
       "      <th>Missing</th>\n",
       "      <th>Uniques</th>\n",
       "      <th>First Value</th>\n",
       "      <th>Second Value</th>\n",
       "      <th>Third Value</th>\n",
       "      <th>Entropy</th>\n",
       "    </tr>\n",
       "  </thead>\n",
       "  <tbody>\n",
       "    <tr>\n",
       "      <th>0</th>\n",
       "      <td>term</td>\n",
       "      <td>object</td>\n",
       "      <td>0</td>\n",
       "      <td>2</td>\n",
       "      <td>36 months</td>\n",
       "      <td>60 months</td>\n",
       "      <td>36 months</td>\n",
       "      <td>0.88</td>\n",
       "    </tr>\n",
       "    <tr>\n",
       "      <th>1</th>\n",
       "      <td>grade</td>\n",
       "      <td>object</td>\n",
       "      <td>0</td>\n",
       "      <td>7</td>\n",
       "      <td>A</td>\n",
       "      <td>C</td>\n",
       "      <td>C</td>\n",
       "      <td>2.35</td>\n",
       "    </tr>\n",
       "    <tr>\n",
       "      <th>2</th>\n",
       "      <td>emp_length</td>\n",
       "      <td>float64</td>\n",
       "      <td>0</td>\n",
       "      <td>11</td>\n",
       "      <td>8</td>\n",
       "      <td>10</td>\n",
       "      <td>10</td>\n",
       "      <td>3.06</td>\n",
       "    </tr>\n",
       "    <tr>\n",
       "      <th>3</th>\n",
       "      <td>home_ownership</td>\n",
       "      <td>object</td>\n",
       "      <td>0</td>\n",
       "      <td>4</td>\n",
       "      <td>MORTGAGE</td>\n",
       "      <td>RENT</td>\n",
       "      <td>RENT</td>\n",
       "      <td>1.37</td>\n",
       "    </tr>\n",
       "    <tr>\n",
       "      <th>4</th>\n",
       "      <td>annual_inc</td>\n",
       "      <td>float64</td>\n",
       "      <td>0</td>\n",
       "      <td>37522</td>\n",
       "      <td>58000</td>\n",
       "      <td>78000</td>\n",
       "      <td>69000</td>\n",
       "      <td>8.19</td>\n",
       "    </tr>\n",
       "  </tbody>\n",
       "</table>\n",
       "</div>"
      ],
      "text/plain": [
       "             Name   dtypes  Missing  Uniques First Value Second Value  \\\n",
       "0            term   object        0        2   36 months    60 months   \n",
       "1           grade   object        0        7           A            C   \n",
       "2      emp_length  float64        0       11           8           10   \n",
       "3  home_ownership   object        0        4    MORTGAGE         RENT   \n",
       "4      annual_inc  float64        0    37522       58000        78000   \n",
       "\n",
       "  Third Value  Entropy  \n",
       "0   36 months     0.88  \n",
       "1           C     2.35  \n",
       "2          10     3.06  \n",
       "3        RENT     1.37  \n",
       "4       69000     8.19  "
      ]
     },
     "execution_count": 42,
     "metadata": {},
     "output_type": "execute_result"
    }
   ],
   "source": [
    "resumetable(df).head()\n",
    "#Just using head() to make it visually easier for you to follow here. Otherwise I wouldn't, so I can see and go through \n",
    "#the whole results"
   ]
  },
  {
   "cell_type": "markdown",
   "metadata": {},
   "source": [
    "**Notice that earliest_cr_line and revol_util are 2 columns that need formatting. "
   ]
  },
  {
   "cell_type": "code",
   "execution_count": 43,
   "metadata": {
    "scrolled": false
   },
   "outputs": [],
   "source": [
    "df['revol_util'] = df['revol_util'].str.rstrip('%').astype('float')"
   ]
  },
  {
   "cell_type": "code",
   "execution_count": 44,
   "metadata": {
    "scrolled": false
   },
   "outputs": [],
   "source": [
    "df['earliest_cr_line'] = pd.to_datetime(df['earliest_cr_line'],infer_datetime_format=True)"
   ]
  },
  {
   "cell_type": "code",
   "execution_count": 45,
   "metadata": {
    "scrolled": true
   },
   "outputs": [
    {
     "name": "stdout",
     "output_type": "stream",
     "text": [
      "Dataset Shape: (631386, 57)\n"
     ]
    },
    {
     "data": {
      "text/html": [
       "<div>\n",
       "<style scoped>\n",
       "    .dataframe tbody tr th:only-of-type {\n",
       "        vertical-align: middle;\n",
       "    }\n",
       "\n",
       "    .dataframe tbody tr th {\n",
       "        vertical-align: top;\n",
       "    }\n",
       "\n",
       "    .dataframe thead th {\n",
       "        text-align: right;\n",
       "    }\n",
       "</style>\n",
       "<table border=\"1\" class=\"dataframe\">\n",
       "  <thead>\n",
       "    <tr style=\"text-align: right;\">\n",
       "      <th></th>\n",
       "      <th>Name</th>\n",
       "      <th>dtypes</th>\n",
       "      <th>Missing</th>\n",
       "      <th>Uniques</th>\n",
       "      <th>First Value</th>\n",
       "      <th>Second Value</th>\n",
       "      <th>Third Value</th>\n",
       "      <th>Entropy</th>\n",
       "    </tr>\n",
       "  </thead>\n",
       "  <tbody>\n",
       "    <tr>\n",
       "      <th>0</th>\n",
       "      <td>term</td>\n",
       "      <td>object</td>\n",
       "      <td>0</td>\n",
       "      <td>2</td>\n",
       "      <td>36 months</td>\n",
       "      <td>60 months</td>\n",
       "      <td>36 months</td>\n",
       "      <td>0.88</td>\n",
       "    </tr>\n",
       "    <tr>\n",
       "      <th>1</th>\n",
       "      <td>grade</td>\n",
       "      <td>object</td>\n",
       "      <td>0</td>\n",
       "      <td>7</td>\n",
       "      <td>A</td>\n",
       "      <td>C</td>\n",
       "      <td>C</td>\n",
       "      <td>2.35</td>\n",
       "    </tr>\n",
       "    <tr>\n",
       "      <th>2</th>\n",
       "      <td>emp_length</td>\n",
       "      <td>float64</td>\n",
       "      <td>0</td>\n",
       "      <td>11</td>\n",
       "      <td>8</td>\n",
       "      <td>10</td>\n",
       "      <td>10</td>\n",
       "      <td>3.06</td>\n",
       "    </tr>\n",
       "    <tr>\n",
       "      <th>3</th>\n",
       "      <td>home_ownership</td>\n",
       "      <td>object</td>\n",
       "      <td>0</td>\n",
       "      <td>4</td>\n",
       "      <td>MORTGAGE</td>\n",
       "      <td>RENT</td>\n",
       "      <td>RENT</td>\n",
       "      <td>1.37</td>\n",
       "    </tr>\n",
       "    <tr>\n",
       "      <th>4</th>\n",
       "      <td>annual_inc</td>\n",
       "      <td>float64</td>\n",
       "      <td>0</td>\n",
       "      <td>37522</td>\n",
       "      <td>58000</td>\n",
       "      <td>78000</td>\n",
       "      <td>69000</td>\n",
       "      <td>8.19</td>\n",
       "    </tr>\n",
       "  </tbody>\n",
       "</table>\n",
       "</div>"
      ],
      "text/plain": [
       "             Name   dtypes  Missing  Uniques First Value Second Value  \\\n",
       "0            term   object        0        2   36 months    60 months   \n",
       "1           grade   object        0        7           A            C   \n",
       "2      emp_length  float64        0       11           8           10   \n",
       "3  home_ownership   object        0        4    MORTGAGE         RENT   \n",
       "4      annual_inc  float64        0    37522       58000        78000   \n",
       "\n",
       "  Third Value  Entropy  \n",
       "0   36 months     0.88  \n",
       "1           C     2.35  \n",
       "2          10     3.06  \n",
       "3        RENT     1.37  \n",
       "4       69000     8.19  "
      ]
     },
     "execution_count": 45,
     "metadata": {},
     "output_type": "execute_result"
    }
   ],
   "source": [
    "resumetable(df).head()\n",
    "#Just using head() to make it visually easier for you to follow here. Otherwise I wouldn't, so I can see and go through \n",
    "#the whole results"
   ]
  },
  {
   "cell_type": "markdown",
   "metadata": {},
   "source": [
    "**We are almost done. We just need a few more fixes that we will get them done by performing Data Transformation. <a href='https://developers.google.com/machine-learning/data-prep/transform/introduction'> Here</a> is good resource for Data Transformation, why we need to perform it and how? We usually perform Data transformation before training our data for our model. We do that to transform our data to account for any skewness in the variable distribution. <a href='https://towardsdatascience.com/data-preparation-for-machine-learning-cleansing-transformation-feature-engineering-d2334079b06d'> Here</a> is another good short read on Data Transformation."
   ]
  },
  {
   "cell_type": "code",
   "execution_count": 46,
   "metadata": {
    "scrolled": false
   },
   "outputs": [],
   "source": [
    "#for our numerical values we will use boxcox transformation to transform our numerical data into normally distributed data.\n",
    "from scipy.stats import boxcox\n",
    "numerical = df.columns[df.dtypes == 'float64']\n",
    "for i in numerical:\n",
    "    if df[i].min() > 0:\n",
    "        transformed, lamb = boxcox(df.loc[df[i].notnull(), i])\n",
    "        if np.abs(1 - lamb) > 0.02:\n",
    "            df.loc[df[i].notnull(), i] = transformed"
   ]
  },
  {
   "cell_type": "markdown",
   "metadata": {},
   "source": [
    "** Now that our numerical data is normalized, we can move on to our categorical data transformation. First the reason why we need to transform our categorical data. The Machine learning Algorithms don't take categorical or string data type as an input. Therefore, we have to create dummy variables for each value. for example, if there is yes/no category we can change them into 1 and 0. There are 2 ways to achieve this here Label Encoding and One Hot Encoding. Label Encoding works best when there are only 2 variable values. for example, yes and no. But if there are more than 2 categories (yes, no, maybe,) then it might cause discrepancies in the algorithm. So, the best option for those would be using One Hot Encoding."
   ]
  },
  {
   "cell_type": "code",
   "execution_count": 47,
   "metadata": {
    "scrolled": false
   },
   "outputs": [
    {
     "name": "stdout",
     "output_type": "stream",
     "text": [
      "term\n",
      "initial_list_status\n",
      "2 columns with 2 category that were labled\n"
     ]
    }
   ],
   "source": [
    "# Label Encoding for the variables with 2 unique values\n",
    "from sklearn import preprocessing\n",
    "\n",
    "count = 0\n",
    "\n",
    "for column in df:\n",
    "    if df[column].dtype == 'object':\n",
    "        if len(list(df[column].unique())) <= 2:     \n",
    "            le = preprocessing.LabelEncoder()\n",
    "            df[column] = le.fit_transform(df[column])\n",
    "            count += 1\n",
    "            print (column)\n",
    "            \n",
    "print('%d columns with 2 category that were labled' % count)"
   ]
  },
  {
   "cell_type": "code",
   "execution_count": 48,
   "metadata": {
    "scrolled": false
   },
   "outputs": [
    {
     "data": {
      "text/html": [
       "<div>\n",
       "<style scoped>\n",
       "    .dataframe tbody tr th:only-of-type {\n",
       "        vertical-align: middle;\n",
       "    }\n",
       "\n",
       "    .dataframe tbody tr th {\n",
       "        vertical-align: top;\n",
       "    }\n",
       "\n",
       "    .dataframe thead th {\n",
       "        text-align: right;\n",
       "    }\n",
       "</style>\n",
       "<table border=\"1\" class=\"dataframe\">\n",
       "  <thead>\n",
       "    <tr style=\"text-align: right;\">\n",
       "      <th></th>\n",
       "      <th>term</th>\n",
       "      <th>grade</th>\n",
       "      <th>emp_length</th>\n",
       "      <th>home_ownership</th>\n",
       "      <th>annual_inc</th>\n",
       "      <th>verification_status</th>\n",
       "      <th>loan_status</th>\n",
       "      <th>purpose</th>\n",
       "      <th>dti</th>\n",
       "      <th>delinq_2yrs</th>\n",
       "      <th>...</th>\n",
       "      <th>num_tl_op_past_12m</th>\n",
       "      <th>pct_tl_nvr_dlq</th>\n",
       "      <th>percent_bc_gt_75</th>\n",
       "      <th>pub_rec_bankruptcies</th>\n",
       "      <th>tax_liens</th>\n",
       "      <th>tot_hi_cred_lim</th>\n",
       "      <th>total_bal_ex_mort</th>\n",
       "      <th>total_bc_limit</th>\n",
       "      <th>total_il_high_credit_limit</th>\n",
       "      <th>FICO</th>\n",
       "    </tr>\n",
       "  </thead>\n",
       "  <tbody>\n",
       "    <tr>\n",
       "      <th>0</th>\n",
       "      <td>0</td>\n",
       "      <td>A</td>\n",
       "      <td>8.0</td>\n",
       "      <td>MORTGAGE</td>\n",
       "      <td>6.604542</td>\n",
       "      <td>Not Verified</td>\n",
       "      <td>0</td>\n",
       "      <td>credit_card</td>\n",
       "      <td>14.92</td>\n",
       "      <td>0</td>\n",
       "      <td>...</td>\n",
       "      <td>4</td>\n",
       "      <td>83.3</td>\n",
       "      <td>14.3</td>\n",
       "      <td>0</td>\n",
       "      <td>0</td>\n",
       "      <td>179407</td>\n",
       "      <td>15030</td>\n",
       "      <td>13000</td>\n",
       "      <td>11325</td>\n",
       "      <td>0.083212</td>\n",
       "    </tr>\n",
       "    <tr>\n",
       "      <th>1</th>\n",
       "      <td>1</td>\n",
       "      <td>C</td>\n",
       "      <td>10.0</td>\n",
       "      <td>RENT</td>\n",
       "      <td>6.700003</td>\n",
       "      <td>Source Verified</td>\n",
       "      <td>1</td>\n",
       "      <td>debt_consolidation</td>\n",
       "      <td>12.03</td>\n",
       "      <td>0</td>\n",
       "      <td>...</td>\n",
       "      <td>4</td>\n",
       "      <td>100.0</td>\n",
       "      <td>0.0</td>\n",
       "      <td>0</td>\n",
       "      <td>0</td>\n",
       "      <td>196500</td>\n",
       "      <td>149140</td>\n",
       "      <td>10000</td>\n",
       "      <td>12000</td>\n",
       "      <td>0.083212</td>\n",
       "    </tr>\n",
       "    <tr>\n",
       "      <th>2</th>\n",
       "      <td>0</td>\n",
       "      <td>C</td>\n",
       "      <td>10.0</td>\n",
       "      <td>RENT</td>\n",
       "      <td>6.660848</td>\n",
       "      <td>Source Verified</td>\n",
       "      <td>1</td>\n",
       "      <td>debt_consolidation</td>\n",
       "      <td>25.81</td>\n",
       "      <td>0</td>\n",
       "      <td>...</td>\n",
       "      <td>3</td>\n",
       "      <td>100.0</td>\n",
       "      <td>60.0</td>\n",
       "      <td>0</td>\n",
       "      <td>0</td>\n",
       "      <td>52490</td>\n",
       "      <td>38566</td>\n",
       "      <td>21100</td>\n",
       "      <td>24890</td>\n",
       "      <td>0.083212</td>\n",
       "    </tr>\n",
       "    <tr>\n",
       "      <th>3</th>\n",
       "      <td>1</td>\n",
       "      <td>D</td>\n",
       "      <td>10.0</td>\n",
       "      <td>MORTGAGE</td>\n",
       "      <td>6.846140</td>\n",
       "      <td>Verified</td>\n",
       "      <td>1</td>\n",
       "      <td>car</td>\n",
       "      <td>8.31</td>\n",
       "      <td>1</td>\n",
       "      <td>...</td>\n",
       "      <td>0</td>\n",
       "      <td>76.9</td>\n",
       "      <td>100.0</td>\n",
       "      <td>0</td>\n",
       "      <td>0</td>\n",
       "      <td>368700</td>\n",
       "      <td>18007</td>\n",
       "      <td>4400</td>\n",
       "      <td>18000</td>\n",
       "      <td>0.083212</td>\n",
       "    </tr>\n",
       "    <tr>\n",
       "      <th>4</th>\n",
       "      <td>1</td>\n",
       "      <td>D</td>\n",
       "      <td>6.0</td>\n",
       "      <td>RENT</td>\n",
       "      <td>6.635568</td>\n",
       "      <td>Source Verified</td>\n",
       "      <td>1</td>\n",
       "      <td>credit_card</td>\n",
       "      <td>18.49</td>\n",
       "      <td>0</td>\n",
       "      <td>...</td>\n",
       "      <td>2</td>\n",
       "      <td>91.4</td>\n",
       "      <td>100.0</td>\n",
       "      <td>0</td>\n",
       "      <td>0</td>\n",
       "      <td>57073</td>\n",
       "      <td>42315</td>\n",
       "      <td>15000</td>\n",
       "      <td>35573</td>\n",
       "      <td>0.083212</td>\n",
       "    </tr>\n",
       "  </tbody>\n",
       "</table>\n",
       "<p>5 rows × 57 columns</p>\n",
       "</div>"
      ],
      "text/plain": [
       "   term grade  emp_length home_ownership  annual_inc verification_status  \\\n",
       "0     0     A         8.0       MORTGAGE    6.604542        Not Verified   \n",
       "1     1     C        10.0           RENT    6.700003     Source Verified   \n",
       "2     0     C        10.0           RENT    6.660848     Source Verified   \n",
       "3     1     D        10.0       MORTGAGE    6.846140            Verified   \n",
       "4     1     D         6.0           RENT    6.635568     Source Verified   \n",
       "\n",
       "   loan_status             purpose    dti  delinq_2yrs    ...     \\\n",
       "0            0         credit_card  14.92            0    ...      \n",
       "1            1  debt_consolidation  12.03            0    ...      \n",
       "2            1  debt_consolidation  25.81            0    ...      \n",
       "3            1                 car   8.31            1    ...      \n",
       "4            1         credit_card  18.49            0    ...      \n",
       "\n",
       "  num_tl_op_past_12m  pct_tl_nvr_dlq  percent_bc_gt_75  pub_rec_bankruptcies  \\\n",
       "0                  4            83.3              14.3                     0   \n",
       "1                  4           100.0               0.0                     0   \n",
       "2                  3           100.0              60.0                     0   \n",
       "3                  0            76.9             100.0                     0   \n",
       "4                  2            91.4             100.0                     0   \n",
       "\n",
       "   tax_liens  tot_hi_cred_lim  total_bal_ex_mort  total_bc_limit  \\\n",
       "0          0           179407              15030           13000   \n",
       "1          0           196500             149140           10000   \n",
       "2          0            52490              38566           21100   \n",
       "3          0           368700              18007            4400   \n",
       "4          0            57073              42315           15000   \n",
       "\n",
       "   total_il_high_credit_limit      FICO  \n",
       "0                       11325  0.083212  \n",
       "1                       12000  0.083212  \n",
       "2                       24890  0.083212  \n",
       "3                       18000  0.083212  \n",
       "4                       35573  0.083212  \n",
       "\n",
       "[5 rows x 57 columns]"
      ]
     },
     "execution_count": 48,
     "metadata": {},
     "output_type": "execute_result"
    }
   ],
   "source": [
    "df.shape\n",
    "df.head()"
   ]
  },
  {
   "cell_type": "markdown",
   "metadata": {},
   "source": [
    "Notice the values in our term column changed to 0 and 1. Now we will take care of the rest of our categorical columns with One Hot Encoding. This create separate columns for each category. It is better to drop the first one, so we have N-1 columns instead of N."
   ]
  },
  {
   "cell_type": "code",
   "execution_count": 49,
   "metadata": {
    "scrolled": false
   },
   "outputs": [
    {
     "data": {
      "text/plain": [
       "(631386, 77)"
      ]
     },
     "execution_count": 49,
     "metadata": {},
     "output_type": "execute_result"
    }
   ],
   "source": [
    "df = pd.get_dummies(df, drop_first=True)\n",
    "df.shape"
   ]
  },
  {
   "cell_type": "code",
   "execution_count": 50,
   "metadata": {
    "scrolled": false
   },
   "outputs": [
    {
     "data": {
      "text/html": [
       "<div>\n",
       "<style scoped>\n",
       "    .dataframe tbody tr th:only-of-type {\n",
       "        vertical-align: middle;\n",
       "    }\n",
       "\n",
       "    .dataframe tbody tr th {\n",
       "        vertical-align: top;\n",
       "    }\n",
       "\n",
       "    .dataframe thead th {\n",
       "        text-align: right;\n",
       "    }\n",
       "</style>\n",
       "<table border=\"1\" class=\"dataframe\">\n",
       "  <thead>\n",
       "    <tr style=\"text-align: right;\">\n",
       "      <th></th>\n",
       "      <th>term</th>\n",
       "      <th>emp_length</th>\n",
       "      <th>annual_inc</th>\n",
       "      <th>loan_status</th>\n",
       "      <th>dti</th>\n",
       "      <th>delinq_2yrs</th>\n",
       "      <th>earliest_cr_line</th>\n",
       "      <th>inq_last_6mths</th>\n",
       "      <th>open_acc</th>\n",
       "      <th>pub_rec</th>\n",
       "      <th>...</th>\n",
       "      <th>purpose_home_improvement</th>\n",
       "      <th>purpose_house</th>\n",
       "      <th>purpose_major_purchase</th>\n",
       "      <th>purpose_medical</th>\n",
       "      <th>purpose_moving</th>\n",
       "      <th>purpose_other</th>\n",
       "      <th>purpose_renewable_energy</th>\n",
       "      <th>purpose_small_business</th>\n",
       "      <th>purpose_vacation</th>\n",
       "      <th>purpose_wedding</th>\n",
       "    </tr>\n",
       "  </thead>\n",
       "  <tbody>\n",
       "    <tr>\n",
       "      <th>0</th>\n",
       "      <td>0</td>\n",
       "      <td>8.0</td>\n",
       "      <td>6.604542</td>\n",
       "      <td>0</td>\n",
       "      <td>14.92</td>\n",
       "      <td>0</td>\n",
       "      <td>1989-09-01</td>\n",
       "      <td>2</td>\n",
       "      <td>17</td>\n",
       "      <td>0</td>\n",
       "      <td>...</td>\n",
       "      <td>0</td>\n",
       "      <td>0</td>\n",
       "      <td>0</td>\n",
       "      <td>0</td>\n",
       "      <td>0</td>\n",
       "      <td>0</td>\n",
       "      <td>0</td>\n",
       "      <td>0</td>\n",
       "      <td>0</td>\n",
       "      <td>0</td>\n",
       "    </tr>\n",
       "    <tr>\n",
       "      <th>1</th>\n",
       "      <td>1</td>\n",
       "      <td>10.0</td>\n",
       "      <td>6.700003</td>\n",
       "      <td>1</td>\n",
       "      <td>12.03</td>\n",
       "      <td>0</td>\n",
       "      <td>1994-08-01</td>\n",
       "      <td>0</td>\n",
       "      <td>6</td>\n",
       "      <td>0</td>\n",
       "      <td>...</td>\n",
       "      <td>0</td>\n",
       "      <td>0</td>\n",
       "      <td>0</td>\n",
       "      <td>0</td>\n",
       "      <td>0</td>\n",
       "      <td>0</td>\n",
       "      <td>0</td>\n",
       "      <td>0</td>\n",
       "      <td>0</td>\n",
       "      <td>0</td>\n",
       "    </tr>\n",
       "    <tr>\n",
       "      <th>2</th>\n",
       "      <td>0</td>\n",
       "      <td>10.0</td>\n",
       "      <td>6.660848</td>\n",
       "      <td>1</td>\n",
       "      <td>25.81</td>\n",
       "      <td>0</td>\n",
       "      <td>1992-11-01</td>\n",
       "      <td>0</td>\n",
       "      <td>12</td>\n",
       "      <td>0</td>\n",
       "      <td>...</td>\n",
       "      <td>0</td>\n",
       "      <td>0</td>\n",
       "      <td>0</td>\n",
       "      <td>0</td>\n",
       "      <td>0</td>\n",
       "      <td>0</td>\n",
       "      <td>0</td>\n",
       "      <td>0</td>\n",
       "      <td>0</td>\n",
       "      <td>0</td>\n",
       "    </tr>\n",
       "    <tr>\n",
       "      <th>3</th>\n",
       "      <td>1</td>\n",
       "      <td>10.0</td>\n",
       "      <td>6.846140</td>\n",
       "      <td>1</td>\n",
       "      <td>8.31</td>\n",
       "      <td>1</td>\n",
       "      <td>2000-10-01</td>\n",
       "      <td>0</td>\n",
       "      <td>8</td>\n",
       "      <td>0</td>\n",
       "      <td>...</td>\n",
       "      <td>0</td>\n",
       "      <td>0</td>\n",
       "      <td>0</td>\n",
       "      <td>0</td>\n",
       "      <td>0</td>\n",
       "      <td>0</td>\n",
       "      <td>0</td>\n",
       "      <td>0</td>\n",
       "      <td>0</td>\n",
       "      <td>0</td>\n",
       "    </tr>\n",
       "    <tr>\n",
       "      <th>4</th>\n",
       "      <td>1</td>\n",
       "      <td>6.0</td>\n",
       "      <td>6.635568</td>\n",
       "      <td>1</td>\n",
       "      <td>18.49</td>\n",
       "      <td>0</td>\n",
       "      <td>2020-08-20</td>\n",
       "      <td>0</td>\n",
       "      <td>10</td>\n",
       "      <td>0</td>\n",
       "      <td>...</td>\n",
       "      <td>0</td>\n",
       "      <td>0</td>\n",
       "      <td>0</td>\n",
       "      <td>0</td>\n",
       "      <td>0</td>\n",
       "      <td>0</td>\n",
       "      <td>0</td>\n",
       "      <td>0</td>\n",
       "      <td>0</td>\n",
       "      <td>0</td>\n",
       "    </tr>\n",
       "  </tbody>\n",
       "</table>\n",
       "<p>5 rows × 77 columns</p>\n",
       "</div>"
      ],
      "text/plain": [
       "   term  emp_length  annual_inc  loan_status    dti  delinq_2yrs  \\\n",
       "0     0         8.0    6.604542            0  14.92            0   \n",
       "1     1        10.0    6.700003            1  12.03            0   \n",
       "2     0        10.0    6.660848            1  25.81            0   \n",
       "3     1        10.0    6.846140            1   8.31            1   \n",
       "4     1         6.0    6.635568            1  18.49            0   \n",
       "\n",
       "  earliest_cr_line  inq_last_6mths  open_acc  pub_rec       ...         \\\n",
       "0       1989-09-01               2        17        0       ...          \n",
       "1       1994-08-01               0         6        0       ...          \n",
       "2       1992-11-01               0        12        0       ...          \n",
       "3       2000-10-01               0         8        0       ...          \n",
       "4       2020-08-20               0        10        0       ...          \n",
       "\n",
       "   purpose_home_improvement  purpose_house  purpose_major_purchase  \\\n",
       "0                         0              0                       0   \n",
       "1                         0              0                       0   \n",
       "2                         0              0                       0   \n",
       "3                         0              0                       0   \n",
       "4                         0              0                       0   \n",
       "\n",
       "   purpose_medical  purpose_moving  purpose_other  purpose_renewable_energy  \\\n",
       "0                0               0              0                         0   \n",
       "1                0               0              0                         0   \n",
       "2                0               0              0                         0   \n",
       "3                0               0              0                         0   \n",
       "4                0               0              0                         0   \n",
       "\n",
       "   purpose_small_business  purpose_vacation  purpose_wedding  \n",
       "0                       0                 0                0  \n",
       "1                       0                 0                0  \n",
       "2                       0                 0                0  \n",
       "3                       0                 0                0  \n",
       "4                       0                 0                0  \n",
       "\n",
       "[5 rows x 77 columns]"
      ]
     },
     "execution_count": 50,
     "metadata": {},
     "output_type": "execute_result"
    }
   ],
   "source": [
    "df.head()"
   ]
  },
  {
   "cell_type": "markdown",
   "metadata": {},
   "source": [
    "**Notice that the number of our columns has increased from 57 to 79. Notice that the purpose columns now is divided into its subcategories example: purpose_home_improvement,purpose_house..."
   ]
  },
  {
   "cell_type": "code",
   "execution_count": 51,
   "metadata": {},
   "outputs": [],
   "source": [
    "df.to_csv(\"../cleaned_loands_data.csv\",index=False)"
   ]
  },
  {
   "attachments": {},
   "cell_type": "markdown",
   "metadata": {},
   "source": [
    "**At this point I feel my dataset is ready to be used for building a Machin leaning algorithm. I will Export and save the this cleaned Dataset so I can used it for building a Machin leaning algorithm in another project. Please click here to see and follow along for that project.**"
   ]
  }
 ],
 "metadata": {
  "kernelspec": {
   "display_name": "haditest",
   "language": "python",
   "name": "haditest"
  },
  "language_info": {
   "codemirror_mode": {
    "name": "ipython",
    "version": 3
   },
   "file_extension": ".py",
   "mimetype": "text/x-python",
   "name": "python",
   "nbconvert_exporter": "python",
   "pygments_lexer": "ipython3",
   "version": "3.7.1"
  }
 },
 "nbformat": 4,
 "nbformat_minor": 1
}
